{
 "cells": [
  {
   "cell_type": "markdown",
   "metadata": {},
   "source": [
    "1. MEAN, MEDIAN using numpy \n",
    " \n",
    "applied on a dataset using numpy's mean, median functions\n",
    "mode using scipy's stats function"
   ]
  },
  {
   "cell_type": "code",
   "execution_count": null,
   "metadata": {},
   "outputs": [],
   "source": [
    "a=[12, 123, 1235, 123, 234, 1254]\n",
    "import numpy as np\n",
    "from scipy import stats as st\n",
    "#scipy has a sub module that is used for getting mode of the data and is imported from lib named scipy\n",
    "print(\"mean of the data is : \", int(np.mean(a)))\n",
    "print(\"median of the data is : \", int(np.median(a)))\n",
    "print(st.mode(a))"
   ]
  },
  {
   "cell_type": "markdown",
   "metadata": {},
   "source": [
    "STANDARD DEVIATION (numpy)\n",
    "\n",
    "Standard deviation is a number that describes how spread out the values are.\n",
    "\n",
    "A low standard deviation means that most of the numbers are close to the mean (average) value.\n",
    "\n",
    "A high standard deviation means that the values are spread out over a wider range."
   ]
  },
  {
   "cell_type": "code",
   "execution_count": null,
   "metadata": {},
   "outputs": [],
   "source": [
    "speeds=[95, 80, 125, 90, 98, ]\n",
    "print(\"standard deviation here is : \", int(np.std(speeds)))"
   ]
  },
  {
   "cell_type": "markdown",
   "metadata": {},
   "source": [
    "Percentile Calculation\n",
    "\n",
    "iska mtlb hota h ek data mein koi value kitne % data se zyada h\n",
    "OR \n",
    "it can be rephrased as ek dataset mein kisi value se kam kitni % values hain"
   ]
  },
  {
   "cell_type": "code",
   "execution_count": 14,
   "metadata": {},
   "outputs": [
    {
     "name": "stdout",
     "output_type": "stream",
     "text": [
      "percentile of the given dataset will be :  42.6\n"
     ]
    }
   ],
   "source": [
    "ages = [5,31,43,48,50,41,7,11,15,39,80,82,32,2,8,6,25,36,27,61,31]\n",
    "x=np.percentile(ages, 74) #here the number you enter is the percentile u want from a data, fir data mein jis number ki wo percentile bann rhi hogi wo ayega\n",
    "print(\"percentile of the given dataset will be : \", x)"
   ]
  },
  {
   "cell_type": "code",
   "execution_count": 16,
   "metadata": {},
   "outputs": [
    {
     "name": "stdout",
     "output_type": "stream",
     "text": [
      "61.0\n"
     ]
    }
   ],
   "source": [
    "#example- what is the age that 90% of the people are younger than?\n",
    "ages = [5,31,43,48,50,41,7,11,15,39,80,82,32,2,8,6,25,36,27,61,31]\n",
    "#ans will be\n",
    "print(np.percentile(ages, 90))"
   ]
  },
  {
   "cell_type": "markdown",
   "metadata": {},
   "source": [
    "mean, median, mode, standard deviation, percentile discussed so far\n",
    "\n",
    "LESSON 1 ENDS"
   ]
  }
 ],
 "metadata": {
  "kernelspec": {
   "display_name": "Python 3",
   "language": "python",
   "name": "python3"
  },
  "language_info": {
   "codemirror_mode": {
    "name": "ipython",
    "version": 3
   },
   "file_extension": ".py",
   "mimetype": "text/x-python",
   "name": "python",
   "nbconvert_exporter": "python",
   "pygments_lexer": "ipython3",
   "version": "3.12.0"
  }
 },
 "nbformat": 4,
 "nbformat_minor": 2
}
