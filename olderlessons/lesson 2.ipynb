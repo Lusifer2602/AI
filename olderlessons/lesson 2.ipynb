{
 "cells": [
  {
   "cell_type": "markdown",
   "metadata": {},
   "source": [
    "DATA DISTRIBUTION"
   ]
  },
  {
   "cell_type": "code",
   "execution_count": null,
   "metadata": {},
   "outputs": [],
   "source": [
    "#numpy's random.uniform function is used to generate random number of data\n",
    "import numpy as np\n",
    "x=np.random.uniform(0.0, 100.0, 20) #this will create 20 random integers between 0 and 100 \n",
    "print(x) #the generated data can later be used to experiment with randomly generated data"
   ]
  },
  {
   "cell_type": "code",
   "execution_count": null,
   "metadata": {},
   "outputs": [],
   "source": [
    "import matplotlib.pyplot as plt\n",
    "x=np.random.uniform(0, 10, 20)\n",
    "plt.hist(x, 5)\n",
    "\n",
    "#the following histogram explains\n",
    "# there are 6 values between 0 and 2,\n",
    "# 4 values between 2 and 6,\n",
    "# 2 values between 6 and 8,\n",
    "# 4 values between 8 and 10"
   ]
  },
  {
   "cell_type": "code",
   "execution_count": null,
   "metadata": {},
   "outputs": [],
   "source": [
    "# similarly bigger datasets can be generated using the same"
   ]
  },
  {
   "cell_type": "code",
   "execution_count": null,
   "metadata": {},
   "outputs": [],
   "source": [
    "x=np.random.normal(5.0, 1.0, 100000)\n",
    "plt.hist(x, 100)\n",
    "plt.show()\n",
    "\n",
    "#normal data distribution has been used here\n",
    "# In probability theory this kind of data distribution is known as the normal data distribution, or the Gaussian data distribution, after the mathematician Carl Friedrich Gauss who came up with the formula of this data distribution.\n",
    "\n",
    "\n",
    "# Histogram Explained\n",
    "# We use the array from the numpy.random.normal() method, with 100000 values,  to draw a histogram with 100 bars.\n",
    "# We specify that the mean value is 5.0, and the standard deviation is 1.0.\n",
    "# Meaning that the values should be concentrated around 5.0, and rarely further away than 1.0 from the mean.\n",
    "# And as you can see from the histogram, most values are between 4.0 and 6.0, with a top at approximately 5.0."
   ]
  },
  {
   "cell_type": "code",
   "execution_count": null,
   "metadata": {},
   "outputs": [],
   "source": [
    "#SCATTER PLOT - a plot where all the points are represented with dots\n",
    "import matplotlib.pyplot as plt\n",
    "x=[2,3,6,7,8,9,32,1,4,7,8,9]\n",
    "y=[234,76, 98, 126, 234, 324,156, 178, 189, 234, 321, 176]\n",
    "plt.scatter(x, y)\n",
    "plt.show()"
   ]
  },
  {
   "cell_type": "code",
   "execution_count": null,
   "metadata": {},
   "outputs": [],
   "source": [
    "import numpy as np\n",
    "x=np.random.normal(5, 0.9, 1000) \n",
    "#here mean value of the generated data is 5, std mean dev is 0.9 and 1000 random values are gonna be generated\n",
    "y=np.random.normal(10, 0.75, 1000)\n",
    "#here mean value of the generated data is 10, std mean dev is 0.9 and 1000 random values are gonna be generated\n",
    "plt.scatter(x,y)\n",
    "plt.show()"
   ]
  }
 ],
 "metadata": {
  "kernelspec": {
   "display_name": ".venv",
   "language": "python",
   "name": "python3"
  },
  "language_info": {
   "codemirror_mode": {
    "name": "ipython",
    "version": 3
   },
   "file_extension": ".py",
   "mimetype": "text/x-python",
   "name": "python",
   "nbconvert_exporter": "python",
   "pygments_lexer": "ipython3",
   "version": "3.12.0"
  }
 },
 "nbformat": 4,
 "nbformat_minor": 2
}
