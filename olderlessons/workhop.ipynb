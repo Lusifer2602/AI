{
 "cells": [
  {
   "cell_type": "code",
   "execution_count": null,
   "metadata": {},
   "outputs": [],
   "source": [
    "# day 1\n",
    "print ('hello world')"
   ]
  },
  {
   "cell_type": "code",
   "execution_count": null,
   "metadata": {},
   "outputs": [],
   "source": [
    "name=\"Badshah\"\n",
    "print(f\"my name is The {name}\")"
   ]
  },
  {
   "cell_type": "markdown",
   "metadata": {},
   "source": [
    "1. store a message in a variable and print that message. Then change the value of you variable to a new messsage and print the new message."
   ]
  },
  {
   "cell_type": "code",
   "execution_count": null,
   "metadata": {},
   "outputs": [],
   "source": [
    "a=\"Hello Batman welcome to your Batcave\"\n",
    "print (a)\n",
    "a='Hello Clark Kent. Well come and welcome to your news agency.'\n",
    "print(a)"
   ]
  },
  {
   "cell_type": "markdown",
   "metadata": {},
   "source": [
    "3. "
   ]
  },
  {
   "cell_type": "code",
   "execution_count": null,
   "metadata": {},
   "outputs": [],
   "source": [
    "a=range(0,20)\n",
    "for i in a:\n",
    "    i+=1\n",
    "    print(i)"
   ]
  },
  {
   "cell_type": "code",
   "execution_count": null,
   "metadata": {},
   "outputs": [],
   "source": [
    "a=list(range(1,100001))\n",
    "print(a)"
   ]
  },
  {
   "cell_type": "code",
   "execution_count": null,
   "metadata": {},
   "outputs": [],
   "source": [
    "# print odd numbers\n",
    "a=list(range(1,21,2))\n",
    "print(a)"
   ]
  },
  {
   "cell_type": "code",
   "execution_count": null,
   "metadata": {},
   "outputs": [],
   "source": [
    "# list of multiples of 3 from 3 to 30\n",
    "a=range(1,11)\n",
    "for i in a:\n",
    "    print(i*3)"
   ]
  },
  {
   "cell_type": "code",
   "execution_count": null,
   "metadata": {},
   "outputs": [],
   "source": [
    "# list of first 10 cubes\n",
    "a=range(1,11)\n",
    "for i in a:\n",
    "    print(i**3)"
   ]
  },
  {
   "cell_type": "code",
   "execution_count": null,
   "metadata": {},
   "outputs": [],
   "source": []
  },
  {
   "cell_type": "markdown",
   "metadata": {},
   "source": [
    "Day 3\n",
    "variables\n",
    "basic operators\n"
   ]
  },
  {
   "cell_type": "code",
   "execution_count": null,
   "metadata": {},
   "outputs": [],
   "source": [
    "# slicing a list\n",
    "players=['manish', 'virat', 'dhoni', 'sachin', 'sasuke']\n",
    "print(players[1:4])"
   ]
  },
  {
   "cell_type": "code",
   "execution_count": null,
   "metadata": {},
   "outputs": [],
   "source": [
    "# slicing a list\n",
    "players=['manish', 'virat', 'dhoni', 'sachin', 'sasuke']\n",
    "print(\"Here are teh first 3 members of the team\")\n",
    "for player in players[:3]:\n",
    "    print(player.title()) #title makes the first letters capital of the loop's contents"
   ]
  },
  {
   "cell_type": "code",
   "execution_count": null,
   "metadata": {},
   "outputs": [],
   "source": [
    "dimensions=[200, 121, 21, 321]\n",
    "print(dimensions[3])\n",
    "for dimension in dimensions:\n",
    "    print(dimension)"
   ]
  },
  {
   "cell_type": "code",
   "execution_count": null,
   "metadata": {},
   "outputs": [],
   "source": [
    "cars=['audi', 'bmw', 'maruti', 'jaguar']\n",
    "for car in cars:\n",
    "    "
   ]
  },
  {
   "cell_type": "code",
   "execution_count": null,
   "metadata": {},
   "outputs": [],
   "source": [
    "# if else\n",
    "alien_color=\"green\"\n",
    "\n",
    "if alien_color==\"green\":\n",
    "    print(\"Congrats you've earned 5 points\")\n",
    "else:\n",
    "    print(\"Congrats you earned 10 points.\")"
   ]
  },
  {
   "cell_type": "code",
   "execution_count": null,
   "metadata": {},
   "outputs": [],
   "source": [
    "# slicing\n",
    "names=['ankit', 'pranav', 'sagar', 'sneha', 'shanu', 'mohit', 'monica', 'neha']\n",
    "print(\"First 3 names in the list are : \", names[:3])\n"
   ]
  },
  {
   "cell_type": "code",
   "execution_count": null,
   "metadata": {},
   "outputs": [],
   "source": [
    "fav_pizzas=['pizza hut', 'pizza chocie', 'dominos', 'burger king', 'billu de mashoor pakode']\n",
    "friends_fav=['pizza hut', 'pizza chocie', 'dominos', 'burger king', 'billu de mashoor pakode']\n",
    "\n",
    "fav_pizzas.append(\"fine dine\")\n",
    "print(fav_pizzas)\n"
   ]
  },
  {
   "cell_type": "code",
   "execution_count": null,
   "metadata": {},
   "outputs": [],
   "source": [
    "# an if else statement to determine a person's stage of life\n",
    "'''\n",
    "print the person is a toddler if it is at least 2 years old but less that 4\n",
    "print kid if person is atleast 4 and at most 13 \n",
    "print teenager if between 14 and 18\n",
    "\n",
    "'''"
   ]
  },
  {
   "cell_type": "markdown",
   "metadata": {},
   "source": [
    "John McCarthy coined the term AI in 1950, aka Father Of AI.\n",
    "\n",
    "A lot of research was conducted on AI but later was subjected to criticism and financial setbacks. The expectations from AI were quite high due to heavy optimism but researchers had failed to mee them around 1958-1962.\n",
    "\n",
    "Expert systems were developed in 1980s that were an AI program adopted by many corporations. It was designed to solve problems from a particular domain using logical rules derived from the knowledge of experts.\n",
    "\n",
    "- IBM's 1997 DEeep Blue beats the world chess champion, Garry Kasparov. a significant milestone for AI in games.\n",
    "- 2005 : Stanlet, the self driving car developed by Stanford University, wins the DARPA Challenge.\n",
    "- 2011 : IBM's watson Jeopardy! against former winners, showing the capabilities of AI in natural language processing.\n",
    "- A breakthrough in deep learning occurs when a neural network wins the imageNet competition, significantly improving the state of image recognition.\n",
    "- Googles AlphGo defeats worls champion Go Player Lee Sedol, a significant milestone due to the compexity of the game.\n",
    "\n",
    "- Inteligence and AI, machine learning, Neural Networks\n",
    "    AI - to mimic human conscious into a machine is AI ()\n",
    "Ai systems are trained on large amounts of data for intense and AI used for recignising speech would be trained on a large database.\n",
    "Machine Learning - One of the most common types of AI in use today is based on machine learning, where AI\n",
    "Neural Networks - AI sustems often use neural network, which are designed to mimic the human brain's ability to recognize patterns and make decisions.\n",
    "\n",
    "- Reactive machienes : are the most basic types of AI which save very limited memory but don't have memory or past experience  to influence their \n",
    "Limited memory: can use past experiences\n",
    "Theory of mind : \n",
    "Self aware AI : \n"
   ]
  },
  {
   "cell_type": "code",
   "execution_count": null,
   "metadata": {},
   "outputs": [],
   "source": [
    "import random\n",
    "a=random.randrange(1,9)\n",
    "print(a)"
   ]
  },
  {
   "cell_type": "code",
   "execution_count": null,
   "metadata": {},
   "outputs": [],
   "source": [
    "import matplotlib.pyplot as plt\n",
    "x=[5,2,9,4,7]\n",
    "y=[10,5,8,4,2]\n",
    "\n",
    "plt.plot(x,y)\n",
    "plt.title('amplitude vs time')\n",
    "plt.xlabel(\"x axis\")\n",
    "plt.ylabel(\"y axis\")\n",
    "plt.show()\n",
    "# plt.savefig(\"graph.jpg\", dpi=90) #this will save the graph drawn\n",
    "plt.legend(\"\")"
   ]
  },
  {
   "cell_type": "code",
   "execution_count": null,
   "metadata": {},
   "outputs": [],
   "source": [
    "month=['jan', 'feb', 'march', 'apr', 'may']\n",
    "pnb=[515.5,222.70,113.0,612.00, 210.00]\n",
    "sbi=[420,  730, 820, 420, 210]\n",
    "plt.plot(month,pnb, 'g', )"
   ]
  },
  {
   "cell_type": "code",
   "execution_count": null,
   "metadata": {},
   "outputs": [],
   "source": [
    "import matplotlib.pyplot as plt\n",
    "month=['jan', 'feb', 'mar', 'apr', 'may']\n",
    "pnb=[515, 222, 113, 612, 210]\n",
    "sbi=[420, 730, 820, 420, 910]\n",
    "plt.plot(month, pnb, 'g', label='pnb', linewidth=5)\n",
    "plt.plot(month,sbi, 'b', label='sbi', linewidth=6)\n",
    "plt.title('Top banking secotr in india')\n",
    "plt.xlabel('month')\n",
    "plt.ylabel('bank name')"
   ]
  },
  {
   "cell_type": "code",
   "execution_count": null,
   "metadata": {},
   "outputs": [],
   "source": [
    "import matplotlib.pyplot as plt\n",
    "car=['audi', 'BMW', 'Tesla', 'Jaguar']\n",
    "data=[23, 35, 29, 41]\n",
    "plt.pie(data, labels=car)\n",
    "plt.show()"
   ]
  },
  {
   "cell_type": "code",
   "execution_count": null,
   "metadata": {},
   "outputs": [],
   "source": [
    "import matplotlib.pyplot as plt\n",
    "month=['jan', 'feb', 'mar', 'apr', 'may']\n",
    "pnb=[515, 222, 113, 612, 210]\n",
    "sbi=[420, 730, 820, 420, 910]\n",
    "plt.plot(month, pnb)\n",
    "plt.subplot(1, 2, 2)\n",
    "plt.bar(month, sbi, label=\"pnb\", color='blue')\n",
    "plt.title(\"pnb\")\n",
    "plt.subplot(1, 2, 2)\n",
    "plt.bar(month, sbi, label=\"sbi\", color='pink')\n",
    "plt.title(\"SBI\")\n",
    "plt.show()"
   ]
  },
  {
   "cell_type": "code",
   "execution_count": null,
   "metadata": {},
   "outputs": [],
   "source": [
    "    # pandas \n",
    "import pandas as pd\n",
    "myfruit={\n",
    "    \"fruits\" : ['apple', 'mango', 'cherry', 'price'],\n",
    "    \"names\":['']    \n",
    "}\n",
    "\n",
    "\n",
    "print(\"df.shape-->\", df.shape())\n",
    "print(\"[0] corresponds to rows \", df.shape[0])\n",
    "print(\"[1] corresponds to columns \", df.shape[1])\n",
    "# df.colummns() #returns the column labels of the given dataframe.\n",
    "# df.index() returns the column labels of the given dataframe"
   ]
  },
  {
   "cell_type": "markdown",
   "metadata": {},
   "source": [
    "Machine Learning Model"
   ]
  },
  {
   "cell_type": "markdown",
   "metadata": {},
   "source": [
    "Data Processing Tools\n",
    "\n",
    "important libraries--> numpy, matplotlib, pandas"
   ]
  },
  {
   "cell_type": "code",
   "execution_count": null,
   "metadata": {},
   "outputs": [],
   "source": [
    "import pandas as pd\n",
    "import matplotlib.pyplot as plt\n",
    "import numpy as np\n",
    "dataset=pd.read_excel('data.xlsx') #need to install openpyxl to make this work\n",
    "pd.DataFrame(dataset)\n"
   ]
  },
  {
   "cell_type": "code",
   "execution_count": null,
   "metadata": {},
   "outputs": [],
   "source": [
    "x=dataset.iloc[:,:-1].values\n",
    "y=dataset.iloc[:,:-1].values\n",
    "print(x)\n",
    "print('\\n')\n",
    "print(y)"
   ]
  },
  {
   "cell_type": "code",
   "execution_count": null,
   "metadata": {},
   "outputs": [],
   "source": [
    "# taking care of missin data\n"
   ]
  },
  {
   "cell_type": "code",
   "execution_count": null,
   "metadata": {},
   "outputs": [],
   "source": [
    "# encoding independent variable\n",
    "from sklearn.compose import ColumnTransformer\n",
    "from sklearn.preprocessing import OneHotEncoder\n",
    "import numpy as np\n",
    "ct=ColumnTransformer(transformers=[('encoder', OneHotEncoder(), [0])], remainder='passthrough')\n",
    "x=np.array(ct.fit_transform(x))\n",
    "print(x)"
   ]
  },
  {
   "cell_type": "code",
   "execution_count": null,
   "metadata": {},
   "outputs": [],
   "source": [
    "# encoding dependent variable\n",
    "from sklearn.preprocessing import LabelEncoder\n",
    "le=LabelEncoder()\n",
    "y=le.fit_transform(y)"
   ]
  },
  {
   "cell_type": "code",
   "execution_count": null,
   "metadata": {},
   "outputs": [],
   "source": [
    "# splitting the dataset into Training Set and Test Set\n",
    "from sklearn.model_selection import train_test_split\n",
    "X_train, X_test, Y_train, Y_test = train_test_split(x, y, test_size=0.2, random_state=1)\n",
    "print(X_train)"
   ]
  },
  {
   "cell_type": "markdown",
   "metadata": {},
   "source": [
    "FEATURE SCALING "
   ]
  },
  {
   "cell_type": "code",
   "execution_count": null,
   "metadata": {},
   "outputs": [],
   "source": [
    "# NORMALIZATION\n",
    "from sklearn.preprocessing import StandardScaler\n",
    "sc=StandardScaler()\n",
    "X_train=sc.fit_transform(X_train)\n",
    "X_test=sc.transform(X_test)"
   ]
  },
  {
   "cell_type": "code",
   "execution_count": null,
   "metadata": {},
   "outputs": [],
   "source": [
    "import pandas as pd\n",
    "myfruit={\n",
    "    \"fruit\" : ['apple', 'mango', 'cherry'],\n",
    "    \"price\" : [150, 90, 100]\n",
    "    }\n",
    "# load data into dataframe object\n",
    "df=pd.DataFrame(myfruit)\n",
    "print(df)"
   ]
  },
  {
   "cell_type": "code",
   "execution_count": null,
   "metadata": {},
   "outputs": [],
   "source": [
    "print(\"df.shape-->\", df.shape)\n",
    "print(\"[0] Correspond to rows : \", df.shape[0])\n",
    "print(\"[1] Correspond to Columns : \", df.shape[1])"
   ]
  },
  {
   "cell_type": "code",
   "execution_count": null,
   "metadata": {},
   "outputs": [],
   "source": [
    "from sklearn.linear_model import LinearRegression\n",
    "regressor=LinearRegression()\n",
    "regressor.fit(X_train, Y_train)"
   ]
  },
  {
   "cell_type": "markdown",
   "metadata": {},
   "source": [
    "MACHINE LEARNING MODEL\n",
    "--> Simple linear regression"
   ]
  },
  {
   "cell_type": "code",
   "execution_count": null,
   "metadata": {},
   "outputs": [],
   "source": [
    "import matplotlib.pyplot \n",
    "plt.scatter(X_test, Y_test, color='red')\n",
    "plt.plot(X_train, regressor.predict[X_train], color='blue')\n",
    "plt.title(\"Salary vs Experience (Test set)\")\n",
    "plt.xlabel('Years of experience : ')\n",
    "plt.ylabel('Salary')\n",
    "plt.show()"
   ]
  },
  {
   "cell_type": "markdown",
   "metadata": {},
   "source": [
    "SMART\n",
    "S SPECIAL\n",
    " \n",
    "M Measurable - must have criteria for measuring process\n",
    "    . how much, how many,\n",
    "    . how do i know if i h ave reached my goal, \n",
    "    . have others done it successfully it before\n",
    "\n",
    "A Achievable\n",
    "\n",
    "R Relevancy\n",
    "\n",
    "T Time Bound - Must have start and end date. If not time constrained, there will be\n",
    "\n",
    "JOHN MC CARTHY\n",
    "\n",
    "\n"
   ]
  }
 ],
 "metadata": {
  "kernelspec": {
   "display_name": "Python 3",
   "language": "python",
   "name": "python3"
  },
  "language_info": {
   "codemirror_mode": {
    "name": "ipython",
    "version": 3
   },
   "file_extension": ".py",
   "mimetype": "text/x-python",
   "name": "python",
   "nbconvert_exporter": "python",
   "pygments_lexer": "ipython3",
   "version": "3.12.4"
  }
 },
 "nbformat": 4,
 "nbformat_minor": 2
}
