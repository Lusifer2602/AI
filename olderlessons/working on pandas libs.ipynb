{
 "cells": [
  {
   "cell_type": "code",
   "execution_count": 1,
   "metadata": {},
   "outputs": [
    {
     "name": "stdout",
     "output_type": "stream",
     "text": [
      "    cars  passings\n",
      "0    BMW         3\n",
      "1  Volvo         7\n",
      "2   Ford         2\n"
     ]
    }
   ],
   "source": [
    "import pandas as pd\n",
    "\n",
    "mydataset = {\n",
    "  'cars': [\"BMW\", \"Volvo\", \"Ford\"],\n",
    "  'passings': [3, 7, 2]\n",
    "}\n",
    "\n",
    "myvar = pd.DataFrame(mydataset)\n",
    "\n",
    "print(myvar)\n"
   ]
  },
  {
   "cell_type": "code",
   "execution_count": 2,
   "metadata": {},
   "outputs": [
    {
     "name": "stdout",
     "output_type": "stream",
     "text": [
      "       Name  Age Salary\n",
      "0    Pranav   18    1cr\n",
      "1    Divyam   22   10cr\n",
      "2     Harsh   21   30cr\n",
      "3     Akash   21  450cr\n",
      "4  Pathakji   23   35cr\n"
     ]
    }
   ],
   "source": [
    "import pandas\n",
    "mydata={\n",
    "    'Name':['Pranav', 'Divyam', 'Harsh', 'Akash', 'Pathakji'],\n",
    "    'Age': [18, 22, 21, 21, 23],\n",
    "    'Salary': ['1cr', '10cr', '30cr', '450cr', '35cr']\n",
    "    }\n",
    "\n",
    "data= pandas.DataFrame(mydata)\n",
    "print(data)"
   ]
  },
  {
   "cell_type": "code",
   "execution_count": 3,
   "metadata": {},
   "outputs": [
    {
     "name": "stdout",
     "output_type": "stream",
     "text": [
      "     Brand  Products sold\n",
      "0     Puma           1000\n",
      "1   Reebok            200\n",
      "2   Adidas          20000\n",
      "3  Adrenex          12344\n"
     ]
    }
   ],
   "source": [
    "import pandas\n",
    "newdata= {\n",
    "    'Brand': ['Puma', 'Reebok', 'Adidas', 'Adrenex'],\n",
    "    'Products sold' : [1000, 200, 20000, 12344],\n",
    "}\n",
    "\n",
    "print(pandas.DataFrame(newdata))"
   ]
  },
  {
   "cell_type": "code",
   "execution_count": 4,
   "metadata": {},
   "outputs": [
    {
     "name": "stdout",
     "output_type": "stream",
     "text": [
      "0    p\n",
      "1    a\n",
      "2    n\n",
      "3    d\n",
      "4    a\n",
      "5    s\n",
      "dtype: object\n"
     ]
    }
   ],
   "source": [
    "import pandas as pd\n",
    "import numpy as np\n",
    "\n",
    "x=np.array(['p', 'a', 'n', 'd', 'a', 's'])\n",
    "a=pd.Series(x) #since this is a single column table hence we can commence it under series method of pandas\n",
    "print(a)"
   ]
  },
  {
   "cell_type": "code",
   "execution_count": 5,
   "metadata": {},
   "outputs": [
    {
     "name": "stdout",
     "output_type": "stream",
     "text": [
      "        0\n",
      "0  Python\n",
      "1  Pandas\n"
     ]
    }
   ],
   "source": [
    "import pandas as pd\n",
    "#  a is a list of strings\n",
    "x=['Python', 'Pandas']\n",
    "df=pd.DataFrame(x)\n",
    "print(df) #Calling Datafarme constructor on list"
   ]
  },
  {
   "cell_type": "code",
   "execution_count": 6,
   "metadata": {},
   "outputs": [
    {
     "name": "stdout",
     "output_type": "stream",
     "text": [
      "       Names  Marks Grades\n",
      "0  Ammar Ali     12      B\n",
      "1     Pranav     30      O\n",
      "2      Arsil     -5      A\n",
      "3      Akash     15      F\n",
      "4      Jatin     10      D\n"
     ]
    }
   ],
   "source": [
    "import pandas as pd\n",
    "cd={'Names':['Ammar Ali', \"Pranav\", 'Arsil', 'Akash', 'Jatin'],\n",
    "       'Marks':[12, 30, -5, 15, 10],\n",
    "       'Grades':['B', 'O', 'A', 'F', 'D']}\n",
    "x=pd.DataFrame(cd)\n",
    "print(x)"
   ]
  },
  {
   "cell_type": "code",
   "execution_count": 7,
   "metadata": {},
   "outputs": [
    {
     "data": {
      "text/html": [
       "<div>\n",
       "<style scoped>\n",
       "    .dataframe tbody tr th:only-of-type {\n",
       "        vertical-align: middle;\n",
       "    }\n",
       "\n",
       "    .dataframe tbody tr th {\n",
       "        vertical-align: top;\n",
       "    }\n",
       "\n",
       "    .dataframe thead th {\n",
       "        text-align: right;\n",
       "    }\n",
       "</style>\n",
       "<table border=\"1\" class=\"dataframe\">\n",
       "  <thead>\n",
       "    <tr style=\"text-align: right;\">\n",
       "      <th></th>\n",
       "      <th>Names</th>\n",
       "      <th>Marks</th>\n",
       "      <th>Grades</th>\n",
       "    </tr>\n",
       "  </thead>\n",
       "  <tbody>\n",
       "    <tr>\n",
       "      <th>0</th>\n",
       "      <td>Ammar Ali</td>\n",
       "      <td>12</td>\n",
       "      <td>B</td>\n",
       "    </tr>\n",
       "    <tr>\n",
       "      <th>1</th>\n",
       "      <td>Pranav</td>\n",
       "      <td>30</td>\n",
       "      <td>O</td>\n",
       "    </tr>\n",
       "  </tbody>\n",
       "</table>\n",
       "</div>"
      ],
      "text/plain": [
       "       Names  Marks Grades\n",
       "0  Ammar Ali     12      B\n",
       "1     Pranav     30      O"
      ]
     },
     "execution_count": 7,
     "metadata": {},
     "output_type": "execute_result"
    }
   ],
   "source": [
    "x.head(2) #will print first 2 rows of the DataFrame"
   ]
  },
  {
   "cell_type": "code",
   "execution_count": 8,
   "metadata": {},
   "outputs": [
    {
     "data": {
      "text/html": [
       "<div>\n",
       "<style scoped>\n",
       "    .dataframe tbody tr th:only-of-type {\n",
       "        vertical-align: middle;\n",
       "    }\n",
       "\n",
       "    .dataframe tbody tr th {\n",
       "        vertical-align: top;\n",
       "    }\n",
       "\n",
       "    .dataframe thead th {\n",
       "        text-align: right;\n",
       "    }\n",
       "</style>\n",
       "<table border=\"1\" class=\"dataframe\">\n",
       "  <thead>\n",
       "    <tr style=\"text-align: right;\">\n",
       "      <th></th>\n",
       "      <th>Marks</th>\n",
       "    </tr>\n",
       "  </thead>\n",
       "  <tbody>\n",
       "    <tr>\n",
       "      <th>count</th>\n",
       "      <td>5.000</td>\n",
       "    </tr>\n",
       "    <tr>\n",
       "      <th>mean</th>\n",
       "      <td>12.400</td>\n",
       "    </tr>\n",
       "    <tr>\n",
       "      <th>std</th>\n",
       "      <td>12.502</td>\n",
       "    </tr>\n",
       "    <tr>\n",
       "      <th>min</th>\n",
       "      <td>-5.000</td>\n",
       "    </tr>\n",
       "    <tr>\n",
       "      <th>25%</th>\n",
       "      <td>10.000</td>\n",
       "    </tr>\n",
       "    <tr>\n",
       "      <th>50%</th>\n",
       "      <td>12.000</td>\n",
       "    </tr>\n",
       "    <tr>\n",
       "      <th>75%</th>\n",
       "      <td>15.000</td>\n",
       "    </tr>\n",
       "    <tr>\n",
       "      <th>max</th>\n",
       "      <td>30.000</td>\n",
       "    </tr>\n",
       "  </tbody>\n",
       "</table>\n",
       "</div>"
      ],
      "text/plain": [
       "        Marks\n",
       "count   5.000\n",
       "mean   12.400\n",
       "std    12.502\n",
       "min    -5.000\n",
       "25%    10.000\n",
       "50%    12.000\n",
       "75%    15.000\n",
       "max    30.000"
      ]
     },
     "execution_count": 8,
     "metadata": {},
     "output_type": "execute_result"
    }
   ],
   "source": [
    "x.describe()  #gives mean, median, count, %, max.-min. value of the DataFrame"
   ]
  },
  {
   "cell_type": "markdown",
   "metadata": {},
   "source": [
    "PANDAS LIB. from geekforgeeks"
   ]
  },
  {
   "cell_type": "code",
   "execution_count": 9,
   "metadata": {},
   "outputs": [
    {
     "name": "stdout",
     "output_type": "stream",
     "text": [
      "Empty DataFrame\n",
      "Columns: []\n",
      "Index: []\n"
     ]
    }
   ],
   "source": [
    "import pandas as pd\n",
    "df=pd.DataFrame() #creating an empty DataFrame under pandas lib\n",
    "print(df)"
   ]
  },
  {
   "cell_type": "code",
   "execution_count": 10,
   "metadata": {},
   "outputs": [
    {
     "name": "stdout",
     "output_type": "stream",
     "text": [
      "        0\n",
      "0   Geeks\n",
      "1     for\n",
      "2   Geeks\n",
      "3  portal\n",
      "4     for\n",
      "5   Geeks\n"
     ]
    }
   ],
   "source": [
    "lst=['Geeks', 'for', 'Geeks',\n",
    "     'portal', 'for', 'Geeks']\n",
    "print(pd.DataFrame(lst)) #this syntax create a DataFrame of the variable unde"
   ]
  },
  {
   "cell_type": "code",
   "execution_count": 11,
   "metadata": {},
   "outputs": [
    {
     "name": "stdout",
     "output_type": "stream",
     "text": [
      "      Name  Age\n",
      "0   Pranav   20\n",
      "1  Shubham   35\n",
      "2      Tom   56\n",
      "3    Cruze   40\n",
      "4  Hillary   25\n"
     ]
    }
   ],
   "source": [
    "data={'Name' : ['Pranav', 'Shubham', 'Tom', 'Cruze', 'Hillary'], 'Age' : [20, 35, 56, 40, 25]}\n",
    "print(pd.DataFrame(data)) #this prints "
   ]
  },
  {
   "cell_type": "code",
   "execution_count": 12,
   "metadata": {},
   "outputs": [
    {
     "name": "stdout",
     "output_type": "stream",
     "text": [
      "      Name  Age            Job\n",
      "0   Pranav   20  Data scientst\n",
      "1  Shubham   35   Back-end-dev\n",
      "2      Tom   56  Front-end-dev\n",
      "3    Cruze   40        dev-ops\n",
      "4  Hillary   25             IT\n"
     ]
    }
   ],
   "source": [
    "import pandas as pd\n",
    "ass=pd.DataFrame({\n",
    "    'Name' : ['Pranav', 'Shubham', 'Tom', 'Cruze', 'Hillary'], \n",
    "    'Age' : [20, 35, 56, 40, 25],\n",
    "    'Job' : ['Data scientst', 'Back-end-dev', 'Front-end-dev', 'dev-ops', 'IT']\n",
    "})\n",
    "print(ass)"
   ]
  },
  {
   "cell_type": "code",
   "execution_count": 13,
   "metadata": {},
   "outputs": [
    {
     "name": "stdout",
     "output_type": "stream",
     "text": [
      "      Name  Age            Job\n",
      "0   Pranav   20  Data scientst\n",
      "1  Shubham   35   Back-end-dev\n",
      "2      Tom   56  Front-end-dev\n",
      "3    Cruze   40        dev-ops\n",
      "4  Hillary   25             IT\n"
     ]
    }
   ],
   "source": [
    "# the code above can also be executed as\n",
    "ass={\n",
    "    'Name' : ['Pranav', 'Shubham', 'Tom', 'Cruze', 'Hillary'], \n",
    "    'Age' : [20, 35, 56, 40, 25],\n",
    "    'Job' : ['Data scientst', 'Back-end-dev', 'Front-end-dev', 'dev-ops', 'IT']\n",
    "}\n",
    "df=pd.DataFrame(ass)\n",
    "print(df)"
   ]
  },
  {
   "cell_type": "markdown",
   "metadata": {},
   "source": [
    "pandas can perform a variable types of functions over dataset's columns/rows\n",
    "\n",
    "it can give answers like -\n",
    "-relation b/w two or more columns\n",
    "-avg value\n",
    "-min value\n",
    "-max value"
   ]
  },
  {
   "cell_type": "code",
   "execution_count": 14,
   "metadata": {},
   "outputs": [
    {
     "name": "stdout",
     "output_type": "stream",
     "text": [
      "spiderman\n"
     ]
    }
   ],
   "source": [
    "# labels (If nothing else is specified, the values are labeled with their index number. First value has index 0, and so on...)\n",
    "import pandas as pd\n",
    "a=['batman', 'superman', 'spiderman', 'kevin levrone']\n",
    "print(a[2]) #spiderman here is on index 3 hence it was printed when a was indexed with label"
   ]
  },
  {
   "cell_type": "code",
   "execution_count": 15,
   "metadata": {},
   "outputs": [
    {
     "name": "stdout",
     "output_type": "stream",
     "text": [
      "Twleve ones are      12\n",
      "Twelve twos are      24\n",
      "Twelve threes are    36\n",
      "Twelve fours are     48\n",
      "Twelve fives are     60\n",
      "Twelve sixz are      72\n",
      "dtype: int64\n",
      "value for 4th position (if first is taken 0) will be :  60\n"
     ]
    }
   ],
   "source": [
    "# Creating labels - yes, its possible to name our own labels\n",
    "import pandas as pd\n",
    "a=[12, 24, 36, 48, 60, 72]\n",
    "new=pd.Series(a, index=['Twleve ones are', 'Twelve twos are', 'Twelve threes are', 'Twelve fours are', 'Twelve fives are', 'Twelve sixz are'] )\n",
    "print(new)\n",
    "\n",
    "# on creating labels its also possible to access these values using their label\n",
    "# for eg\n",
    "print('value for 4th position (if first is taken 0) will be : ', new['Twelve fives are'])"
   ]
  },
  {
   "cell_type": "code",
   "execution_count": 16,
   "metadata": {},
   "outputs": [
    {
     "name": "stdout",
     "output_type": "stream",
     "text": [
      "one           Spiderman\n",
      "2                Goblin\n",
      "three            Lizard\n",
      "4        bhadak krdi bc\n",
      "dtype: object\n",
      "\n",
      "day 1        320 calories\n",
      "day 2       5000 calories\n",
      "day 3    1000000 calories\n",
      "dtype: object\n"
     ]
    }
   ],
   "source": [
    "# using key:value pairs for DataFrame\n",
    "import pandas as pd\n",
    "a={'one':'Spiderman', 2:'Goblin', 'three':'Lizard', 4:'bhadak krdi bc'}\n",
    "print(pd.Series(a))\n",
    "print()\n",
    "# to note : keys of the dictionaries become the labels when printed with Series method of pandas\n",
    "diet={'day 1' : '320 calories', 'day 2':'5000 calories', 'day 3':'1000000 calories'}\n",
    "print(pd.Series(diet))"
   ]
  },
  {
   "cell_type": "code",
   "execution_count": 17,
   "metadata": {},
   "outputs": [
    {
     "name": "stdout",
     "output_type": "stream",
     "text": [
      "day1    420\n",
      "day3    390\n",
      "dtype: int64\n"
     ]
    }
   ],
   "source": [
    "'''to print only a desired index value'''\n",
    "\n",
    "import pandas as pd\n",
    "\n",
    "calories = {\"day1\": 420, \"day2\": 380, \"day3\": 390}\n",
    "\n",
    "myvar = pd.Series(calories, index = [\"day1\", \"day3\"])\n",
    "\n",
    "print(myvar) "
   ]
  },
  {
   "cell_type": "markdown",
   "metadata": {},
   "source": [
    "DATAFRAMES"
   ]
  },
  {
   "cell_type": "code",
   "execution_count": 18,
   "metadata": {},
   "outputs": [
    {
     "data": {
      "text/html": [
       "<div>\n",
       "<style scoped>\n",
       "    .dataframe tbody tr th:only-of-type {\n",
       "        vertical-align: middle;\n",
       "    }\n",
       "\n",
       "    .dataframe tbody tr th {\n",
       "        vertical-align: top;\n",
       "    }\n",
       "\n",
       "    .dataframe thead th {\n",
       "        text-align: right;\n",
       "    }\n",
       "</style>\n",
       "<table border=\"1\" class=\"dataframe\">\n",
       "  <thead>\n",
       "    <tr style=\"text-align: right;\">\n",
       "      <th></th>\n",
       "      <th>Names</th>\n",
       "      <th>Hero Name</th>\n",
       "    </tr>\n",
       "  </thead>\n",
       "  <tbody>\n",
       "    <tr>\n",
       "      <th>0</th>\n",
       "      <td>Clark Kent</td>\n",
       "      <td>Superman</td>\n",
       "    </tr>\n",
       "    <tr>\n",
       "      <th>1</th>\n",
       "      <td>Bruce Wayne</td>\n",
       "      <td>Batman</td>\n",
       "    </tr>\n",
       "    <tr>\n",
       "      <th>2</th>\n",
       "      <td>Barry Allen</td>\n",
       "      <td>Flash</td>\n",
       "    </tr>\n",
       "    <tr>\n",
       "      <th>3</th>\n",
       "      <td>Wade Willson</td>\n",
       "      <td>Deadpool</td>\n",
       "    </tr>\n",
       "  </tbody>\n",
       "</table>\n",
       "</div>"
      ],
      "text/plain": [
       "          Names Hero Name\n",
       "0    Clark Kent  Superman\n",
       "1   Bruce Wayne    Batman\n",
       "2   Barry Allen     Flash\n",
       "3  Wade Willson  Deadpool"
      ]
     },
     "execution_count": 18,
     "metadata": {},
     "output_type": "execute_result"
    }
   ],
   "source": [
    "'''a dataframe is a 2 dimensional data structure with rows and columns''' #note that Series previously was one dimensional only, i.e. for a column\n",
    "data={\n",
    "    \"Names\":['Clark Kent', 'Bruce Wayne', 'Barry Allen', 'Wade Willson'],\n",
    "    \"Hero Name\":['Superman', 'Batman', 'Flash', 'Deadpool']\n",
    "}\n",
    "df=pd.DataFrame(data) #this command loads data into DataFrame method to print it tabularly as rows n columns\n",
    "df"
   ]
  },
  {
   "cell_type": "code",
   "execution_count": 19,
   "metadata": {},
   "outputs": [
    {
     "name": "stdout",
     "output_type": "stream",
     "text": [
      "\n",
      "      test 1\n",
      "      \n",
      "Names        Bruce Wayne\n",
      "Hero Name         Batman\n",
      "Name: 1, dtype: object\n",
      "\n",
      "      test 2\n",
      "         Names Hero Name\n",
      "0   Clark Kent  Superman\n",
      "2  Barry Allen     Flash\n",
      "\n",
      "      test 3\n",
      "          Names Hero Name\n",
      "0    Clark Kent  Superman\n",
      "3  Wade Willson  Deadpool\n",
      "1   Bruce Wayne    Batman\n",
      "1   Bruce Wayne    Batman\n"
     ]
    }
   ],
   "source": [
    "# locate Row\n",
    "'''its possible to locate a row by giving its index value under the loc method by applying this method to the DataFrame's variable'''\n",
    "# note that first the Dataset has to be saved in a pandas DataFrame under some variable\n",
    "print('''\n",
    "      test 1\n",
    "      ''')\n",
    "print(df.loc[1])\n",
    "# to get more than one we can just add another index value, for eg:\n",
    "print('''\n",
    "      test 2''')\n",
    "print(df.loc[[0,2]])\n",
    "print('''\n",
    "      test 3''')\n",
    "print(df.loc[[0,3,1,1]]) #when using [] result is a Pandas DataFrame"
   ]
  },
  {
   "cell_type": "markdown",
   "metadata": {},
   "source": [
    "WORKING WITH CSV FILES"
   ]
  },
  {
   "cell_type": "code",
   "execution_count": 20,
   "metadata": {},
   "outputs": [
    {
     "name": "stdout",
     "output_type": "stream",
     "text": [
      "                                  movie         category  year  worldwide gross ($m) % budget recovered critics % score audience % score audience vs critics % deviance  budget  domestic gross ($m)  international gross ($m)  opening weekend ($m)  second weekend ($m) 1st vs 2nd weekend drop off  % gross from opening weekend % gross from domestic % gross from international % budget opening weekend\n",
      "0                             Ant-Man            Ant-Man  2015                   518               398%             83%              85%                            -2%   130.0                  180                       338                  57.0                 24.0                        -58%                       31.8000                34.70%                     65.30%                   43.80%\n",
      "1                    Ant-Man & The Wasp          Ant-Man  2018                   623               479%             87%              80%                             7%   130.0                  216                       406                  75.8                 29.0                        -62%                       35.0000                34.70%                     65.20%                   58.30%\n",
      "2               Avengers: Age of Ultron         Avengers  2015                  1395               382%             76%              82%                            -6%   365.0                  459                       936                 191.0                 77.0                        -60%                       41.7000                32.90%                     67.10%                   52.30%\n",
      "3                    Avengers: End Game         Avengers  2019                  2797               699%             94%              90%                             4%   400.0                  858                      1939                 357.0                147.0                        -59%                       41.6000                30.70%                     69.30%                   89.30%\n",
      "4                Avengers: Infinity War         Avengers  2018                  2048               683%             85%              91%                            -6%   300.0                  678                      1369                 257.0                114.0                        -56%                       38.0000                33.10%                     66.80%                   85.70%\n",
      "5                         Black Panther    Black Panther  2018                  1336               668%             96%              79%                            17%   200.0                  700                       636                 202.0                111.0                        -45%                       28.9000                52.40%                     47.60%                  101.00%\n",
      "6                       Black Panther 2    Black Panther  2022                   855               342%             84%              94%                           -10%   250.0                  453                       401                 181.0                 66.0                        -64%                       48.6000                53.00%                     46.90%                   72.40%\n",
      "7                           Black Widow           Unique  2021                   379               190%             79%              80%                            -1%   200.0                  183                       196                  80.3                 25.8                        -68%                       43.8000                48.30%                     51.70%                   40.20%\n",
      "8                       Captain America  Captain America  2011                   370               264%             79%              75%                             4%   140.0                  176                       193                  65.0                 25.0                        -62%                       36.8000                47.60%                     52.20%                   46.40%\n",
      "9            Captain America: Civil War  Captain America  2016                  1151               460%             90%              89%                             1%   250.0                  408                       743                 179.0                 72.6                        -59%                       43.9000                35.40%                     64.60%                   71.60%\n",
      "10      Captain America: Winter Soldier  Captain America  2014                   714               420%             90%              92%                            -2%   170.0                  259                       454                  95.0                 41.0                        -57%                       36.6000                36.30%                     63.60%                   55.90%\n",
      "11                       Captain Marvel           Unique  2019                  1129               645%             79%              45%                            34%   175.0                  426                       702                 153.0                 67.9                        -56%                       35.9000                37.70%                     62.20%                   87.40%\n",
      "12                           Dr Strange       Dr Strange  2016                   676               410%             89%              86%                             3%   165.0                  232                       443                  85.0                 42.9                        -50%                       36.6000                34.30%                     65.50%                   51.50%\n",
      "13    Dr Strange: Multiverse of Madness       Dr Strange  2022                   952               476%             74%              77%                            -3%   200.0                  411                       540                 187.0                 61.7                        -67%                       45.6000                43.20%                     56.70%                   93.50%\n",
      "14                             Eternals           Unique  2021                   402               201%             47%              73%                           -26%   200.0                  164                       237                  71.0                 26.8                        -62%                       43.2000                40.80%                     59.00%                   35.50%\n",
      "15              Guardians of the Galaxy        Guardians  2014                   770               453%             92%              92%                             0%   170.0                  333                       437                  94.0                 42.1                        -55%                       43.3000                43.20%                     56.80%                   55.30%\n",
      "16            Guardians of the Galaxy 2        Guardians  2017                   869               435%             85%              87%                            -2%   200.0                  389                       479                 146.0                 65.0                        -55%                       37.6000                44.80%                     55.10%                   73.00%\n",
      "17                      Incredible Hulk           Unique  2008                   265               193%             67%              69%                            -2%   137.5                  134                       130                  55.0                 22.1                        -60%                       41.1000                50.60%                     49.10%                   40.00%\n",
      "18                             Iron Man         Iron Man  2008                   585               315%             94%              91%                             3%   186.0                  318                       266                 102.0                 51.2                        -50%                       32.1000                54.40%                     45.50%                   54.80%\n",
      "19                           Iron Man 2         Iron Man  2010                   621               365%             71%              71%                             0%   170.0                  312                       308                 128.0                 52.0                        -59%                       41.0000                50.20%                     49.60%                   75.30%\n",
      "20                           Iron Man 3         Iron Man  2013                  1215               608%             79%              78%                             1%   200.0                  408                       806                 174.0                 72.5                        -58%                       42.6000                33.60%                     66.30%                   87.00%\n",
      "21                            Shang-Chi           Unique  2021                   432               288%             91%              93%                            -2%   150.0                  224                       207                  75.0                 34.7                        -54%                       33.6000                51.90%                     47.90%                   50.00%\n",
      "22            Spider-Man: Far from Home       Spider-Man  2019                  1132               708%             90%              93%                            -3%   160.0                  390                       741                  93.0                 45.3                        -51%                       23.7000                34.50%                     65.50%                   58.10%\n",
      "23               Spider-Man: Homecoming       Spider-Man  2017                   878               502%             92%              87%                             5%   175.0                  334                       544                 117.0                 44.0                        -62%                       35.0000                38.00%                     62.00%                   66.90%\n",
      "24              Spider-Man: No Way Home       Spider-Man  2021                  1911               956%             93%              96%                            -3%   200.0                  814                      1097                 260.0                 84.0                        -68%                       32.0000                42.60%                     57.40%                  130.00%\n",
      "25                         The Avengers         Avengers  2012                  1515               673%             91%              91%                             0%   225.0                  623                       891                 207.0                103.0                        -50%                       33.3000                41.10%                     58.80%                   92.00%\n",
      "26                     Thor: Dark World             Thor  2013                   644               429%             66%              75%                            -9%   150.0                  206                       438                  85.0                 36.5                        -57%                       41.5000                32.00%                     68.00%                   56.70%\n",
      "27                 Thor: Love & Thunder             Thor  2022                   745               298%             64%              63%                             1%   250.0                  343                       403                 144.0                 46.6                        -68%                       42.0000                46.00%                     54.10%                   57.60%\n",
      "28                       Thor: Ragnarok             Thor  2017                   850               472%             93%              87%                             6%   180.0                  315                       535                 122.0                 57.0                        -53%                       39.0000                37.10%                     62.90%                   67.80%\n",
      "29                                 Thor             Thor  2011                   449               299%             77%              76%                             1%   150.0                  181                       268                  65.0                 34.0                        -48%                       36.3000                40.30%                     59.70%                   43.30%\n",
      "30    Ant-Man and the Wasp: Quantumania          Ant-Man  2023                   476               190%             47%              83%                            36%   250.0                  213                       263                 104.0                 32.0                        -69%                       21.8000                44.80%                     55.20%                   41.60%\n",
      "31       Guardians of the Galaxy Vol. 3        Guardians  2023                   845               338%             82%              95%                           -13%   250.0                  358                       487                 118.0                 49.0                        -59%                       14.0000                42.40%                     57.60%                   47.20%\n",
      "32                          The Marvels           Unique  2023                   503               201%             57%              73%                           -16%   250.0                  215                       288                  81.0                 27.0                        -67%                       16.1000                42.70%                     57.30%                   32.40%\n",
      "33  Spider-Man: Across the Spider-Verse       Spider-Man  2023                   680               681%             96%              94%                             2%   100.0                  380                       300                 120.0                 52.0                        -57%                       17.6000                55.90%                     44.10%                  120.00%\n",
      "34                             Deadpool         Deadpool  2016                   783              1350%             85%              90%                             5%    58.0                  363                       420                 132.4                 56.5                        -57%                        0.1691                46.36%                     53.64%                  228.28%\n",
      "35                           Deadpool 2         Deadpool  2018                   786               714%             84%              85%                             1%   110.0                  324                       462                 125.5                 43.5                        -65%                        0.1597                41.22%                     58.78%                  114.09%\n"
     ]
    }
   ],
   "source": [
    "import pandas as pd\n",
    "dataset=pd.read_csv(\"Marvel Movies.csv\")\n",
    "print(dataset.to_string()) #this will print the entire dataframe"
   ]
  },
  {
   "cell_type": "code",
   "execution_count": 21,
   "metadata": {},
   "outputs": [
    {
     "name": "stdout",
     "output_type": "stream",
     "text": [
      "                                  movie         category  year  \\\n",
      "0                             Ant-Man            Ant-Man  2015   \n",
      "1                    Ant-Man & The Wasp          Ant-Man  2018   \n",
      "2               Avengers: Age of Ultron         Avengers  2015   \n",
      "3                    Avengers: End Game         Avengers  2019   \n",
      "4                Avengers: Infinity War         Avengers  2018   \n",
      "5                         Black Panther    Black Panther  2018   \n",
      "6                       Black Panther 2    Black Panther  2022   \n",
      "7                           Black Widow           Unique  2021   \n",
      "8                       Captain America  Captain America  2011   \n",
      "9            Captain America: Civil War  Captain America  2016   \n",
      "10      Captain America: Winter Soldier  Captain America  2014   \n",
      "11                       Captain Marvel           Unique  2019   \n",
      "12                           Dr Strange       Dr Strange  2016   \n",
      "13    Dr Strange: Multiverse of Madness       Dr Strange  2022   \n",
      "14                             Eternals           Unique  2021   \n",
      "15              Guardians of the Galaxy        Guardians  2014   \n",
      "16            Guardians of the Galaxy 2        Guardians  2017   \n",
      "17                      Incredible Hulk           Unique  2008   \n",
      "18                             Iron Man         Iron Man  2008   \n",
      "19                           Iron Man 2         Iron Man  2010   \n",
      "20                           Iron Man 3         Iron Man  2013   \n",
      "21                            Shang-Chi           Unique  2021   \n",
      "22            Spider-Man: Far from Home       Spider-Man  2019   \n",
      "23               Spider-Man: Homecoming       Spider-Man  2017   \n",
      "24              Spider-Man: No Way Home       Spider-Man  2021   \n",
      "25                         The Avengers         Avengers  2012   \n",
      "26                     Thor: Dark World             Thor  2013   \n",
      "27                 Thor: Love & Thunder             Thor  2022   \n",
      "28                       Thor: Ragnarok             Thor  2017   \n",
      "29                                 Thor             Thor  2011   \n",
      "30    Ant-Man and the Wasp: Quantumania          Ant-Man  2023   \n",
      "31       Guardians of the Galaxy Vol. 3        Guardians  2023   \n",
      "32                          The Marvels           Unique  2023   \n",
      "33  Spider-Man: Across the Spider-Verse       Spider-Man  2023   \n",
      "34                             Deadpool         Deadpool  2016   \n",
      "35                           Deadpool 2         Deadpool  2018   \n",
      "\n",
      "    worldwide gross ($m) % budget recovered critics % score audience % score  \\\n",
      "0                    518               398%             83%              85%   \n",
      "1                    623               479%             87%              80%   \n",
      "2                   1395               382%             76%              82%   \n",
      "3                   2797               699%             94%              90%   \n",
      "4                   2048               683%             85%              91%   \n",
      "5                   1336               668%             96%              79%   \n",
      "6                    855               342%             84%              94%   \n",
      "7                    379               190%             79%              80%   \n",
      "8                    370               264%             79%              75%   \n",
      "9                   1151               460%             90%              89%   \n",
      "10                   714               420%             90%              92%   \n",
      "11                  1129               645%             79%              45%   \n",
      "12                   676               410%             89%              86%   \n",
      "13                   952               476%             74%              77%   \n",
      "14                   402               201%             47%              73%   \n",
      "15                   770               453%             92%              92%   \n",
      "16                   869               435%             85%              87%   \n",
      "17                   265               193%             67%              69%   \n",
      "18                   585               315%             94%              91%   \n",
      "19                   621               365%             71%              71%   \n",
      "20                  1215               608%             79%              78%   \n",
      "21                   432               288%             91%              93%   \n",
      "22                  1132               708%             90%              93%   \n",
      "23                   878               502%             92%              87%   \n",
      "24                  1911               956%             93%              96%   \n",
      "25                  1515               673%             91%              91%   \n",
      "26                   644               429%             66%              75%   \n",
      "27                   745               298%             64%              63%   \n",
      "28                   850               472%             93%              87%   \n",
      "29                   449               299%             77%              76%   \n",
      "30                   476               190%             47%              83%   \n",
      "31                   845               338%             82%              95%   \n",
      "32                   503               201%             57%              73%   \n",
      "33                   680               681%             96%              94%   \n",
      "34                   783              1350%             85%              90%   \n",
      "35                   786               714%             84%              85%   \n",
      "\n",
      "   audience vs critics % deviance  budget  domestic gross ($m)  \\\n",
      "0                             -2%   130.0                  180   \n",
      "1                              7%   130.0                  216   \n",
      "2                             -6%   365.0                  459   \n",
      "3                              4%   400.0                  858   \n",
      "4                             -6%   300.0                  678   \n",
      "5                             17%   200.0                  700   \n",
      "6                            -10%   250.0                  453   \n",
      "7                             -1%   200.0                  183   \n",
      "8                              4%   140.0                  176   \n",
      "9                              1%   250.0                  408   \n",
      "10                            -2%   170.0                  259   \n",
      "11                            34%   175.0                  426   \n",
      "12                             3%   165.0                  232   \n",
      "13                            -3%   200.0                  411   \n",
      "14                           -26%   200.0                  164   \n",
      "15                             0%   170.0                  333   \n",
      "16                            -2%   200.0                  389   \n",
      "17                            -2%   137.5                  134   \n",
      "18                             3%   186.0                  318   \n",
      "19                             0%   170.0                  312   \n",
      "20                             1%   200.0                  408   \n",
      "21                            -2%   150.0                  224   \n",
      "22                            -3%   160.0                  390   \n",
      "23                             5%   175.0                  334   \n",
      "24                            -3%   200.0                  814   \n",
      "25                             0%   225.0                  623   \n",
      "26                            -9%   150.0                  206   \n",
      "27                             1%   250.0                  343   \n",
      "28                             6%   180.0                  315   \n",
      "29                             1%   150.0                  181   \n",
      "30                            36%   250.0                  213   \n",
      "31                           -13%   250.0                  358   \n",
      "32                           -16%   250.0                  215   \n",
      "33                             2%   100.0                  380   \n",
      "34                             5%    58.0                  363   \n",
      "35                             1%   110.0                  324   \n",
      "\n",
      "    international gross ($m)  opening weekend ($m)  second weekend ($m)  \\\n",
      "0                        338                  57.0                 24.0   \n",
      "1                        406                  75.8                 29.0   \n",
      "2                        936                 191.0                 77.0   \n",
      "3                       1939                 357.0                147.0   \n",
      "4                       1369                 257.0                114.0   \n",
      "5                        636                 202.0                111.0   \n",
      "6                        401                 181.0                 66.0   \n",
      "7                        196                  80.3                 25.8   \n",
      "8                        193                  65.0                 25.0   \n",
      "9                        743                 179.0                 72.6   \n",
      "10                       454                  95.0                 41.0   \n",
      "11                       702                 153.0                 67.9   \n",
      "12                       443                  85.0                 42.9   \n",
      "13                       540                 187.0                 61.7   \n",
      "14                       237                  71.0                 26.8   \n",
      "15                       437                  94.0                 42.1   \n",
      "16                       479                 146.0                 65.0   \n",
      "17                       130                  55.0                 22.1   \n",
      "18                       266                 102.0                 51.2   \n",
      "19                       308                 128.0                 52.0   \n",
      "20                       806                 174.0                 72.5   \n",
      "21                       207                  75.0                 34.7   \n",
      "22                       741                  93.0                 45.3   \n",
      "23                       544                 117.0                 44.0   \n",
      "24                      1097                 260.0                 84.0   \n",
      "25                       891                 207.0                103.0   \n",
      "26                       438                  85.0                 36.5   \n",
      "27                       403                 144.0                 46.6   \n",
      "28                       535                 122.0                 57.0   \n",
      "29                       268                  65.0                 34.0   \n",
      "30                       263                 104.0                 32.0   \n",
      "31                       487                 118.0                 49.0   \n",
      "32                       288                  81.0                 27.0   \n",
      "33                       300                 120.0                 52.0   \n",
      "34                       420                 132.4                 56.5   \n",
      "35                       462                 125.5                 43.5   \n",
      "\n",
      "   1st vs 2nd weekend drop off  % gross from opening weekend  \\\n",
      "0                         -58%                       31.8000   \n",
      "1                         -62%                       35.0000   \n",
      "2                         -60%                       41.7000   \n",
      "3                         -59%                       41.6000   \n",
      "4                         -56%                       38.0000   \n",
      "5                         -45%                       28.9000   \n",
      "6                         -64%                       48.6000   \n",
      "7                         -68%                       43.8000   \n",
      "8                         -62%                       36.8000   \n",
      "9                         -59%                       43.9000   \n",
      "10                        -57%                       36.6000   \n",
      "11                        -56%                       35.9000   \n",
      "12                        -50%                       36.6000   \n",
      "13                        -67%                       45.6000   \n",
      "14                        -62%                       43.2000   \n",
      "15                        -55%                       43.3000   \n",
      "16                        -55%                       37.6000   \n",
      "17                        -60%                       41.1000   \n",
      "18                        -50%                       32.1000   \n",
      "19                        -59%                       41.0000   \n",
      "20                        -58%                       42.6000   \n",
      "21                        -54%                       33.6000   \n",
      "22                        -51%                       23.7000   \n",
      "23                        -62%                       35.0000   \n",
      "24                        -68%                       32.0000   \n",
      "25                        -50%                       33.3000   \n",
      "26                        -57%                       41.5000   \n",
      "27                        -68%                       42.0000   \n",
      "28                        -53%                       39.0000   \n",
      "29                        -48%                       36.3000   \n",
      "30                        -69%                       21.8000   \n",
      "31                        -59%                       14.0000   \n",
      "32                        -67%                       16.1000   \n",
      "33                        -57%                       17.6000   \n",
      "34                        -57%                        0.1691   \n",
      "35                        -65%                        0.1597   \n",
      "\n",
      "   % gross from domestic % gross from international % budget opening weekend  \n",
      "0                 34.70%                     65.30%                   43.80%  \n",
      "1                 34.70%                     65.20%                   58.30%  \n",
      "2                 32.90%                     67.10%                   52.30%  \n",
      "3                 30.70%                     69.30%                   89.30%  \n",
      "4                 33.10%                     66.80%                   85.70%  \n",
      "5                 52.40%                     47.60%                  101.00%  \n",
      "6                 53.00%                     46.90%                   72.40%  \n",
      "7                 48.30%                     51.70%                   40.20%  \n",
      "8                 47.60%                     52.20%                   46.40%  \n",
      "9                 35.40%                     64.60%                   71.60%  \n",
      "10                36.30%                     63.60%                   55.90%  \n",
      "11                37.70%                     62.20%                   87.40%  \n",
      "12                34.30%                     65.50%                   51.50%  \n",
      "13                43.20%                     56.70%                   93.50%  \n",
      "14                40.80%                     59.00%                   35.50%  \n",
      "15                43.20%                     56.80%                   55.30%  \n",
      "16                44.80%                     55.10%                   73.00%  \n",
      "17                50.60%                     49.10%                   40.00%  \n",
      "18                54.40%                     45.50%                   54.80%  \n",
      "19                50.20%                     49.60%                   75.30%  \n",
      "20                33.60%                     66.30%                   87.00%  \n",
      "21                51.90%                     47.90%                   50.00%  \n",
      "22                34.50%                     65.50%                   58.10%  \n",
      "23                38.00%                     62.00%                   66.90%  \n",
      "24                42.60%                     57.40%                  130.00%  \n",
      "25                41.10%                     58.80%                   92.00%  \n",
      "26                32.00%                     68.00%                   56.70%  \n",
      "27                46.00%                     54.10%                   57.60%  \n",
      "28                37.10%                     62.90%                   67.80%  \n",
      "29                40.30%                     59.70%                   43.30%  \n",
      "30                44.80%                     55.20%                   41.60%  \n",
      "31                42.40%                     57.60%                   47.20%  \n",
      "32                42.70%                     57.30%                   32.40%  \n",
      "33                55.90%                     44.10%                  120.00%  \n",
      "34                46.36%                     53.64%                  228.28%  \n",
      "35                41.22%                     58.78%                  114.09%  \n"
     ]
    }
   ],
   "source": [
    "#if there's a larger dataframe and it is printed without to_string() then output will be a summarised view of the dataset\n",
    "ABBA=pd.read_csv(\"Marvel Movies.csv\")\n",
    "print(ABBA)"
   ]
  },
  {
   "cell_type": "code",
   "execution_count": 22,
   "metadata": {},
   "outputs": [
    {
     "name": "stdout",
     "output_type": "stream",
     "text": [
      "maximum rows in this dataset are : 60\n",
      "maximum columns in the same dataset are : 20\n"
     ]
    }
   ],
   "source": [
    "# max rows - The number of rows returned is defined in Pandas option settings.\n",
    "# You can check your system's maximum rows with the pd.options.display.max_rows statement.\n",
    "\n",
    "print(\"maximum rows in this dataset are :\", pd.options.display.max_rows)\n",
    "print(\"maximum columns in the same dataset are :\", pd.options.display.max_columns)"
   ]
  },
  {
   "cell_type": "markdown",
   "metadata": {},
   "source": [
    "WORKING WITH JSON FILES"
   ]
  },
  {
   "cell_type": "code",
   "execution_count": 23,
   "metadata": {},
   "outputs": [
    {
     "name": "stdout",
     "output_type": "stream",
     "text": [
      "   Duration  Pulse  Maxpulse  Calories\n",
      "0        60    110       130       409\n",
      "1        60    117       145       479\n",
      "2        60    103       135       340\n",
      "3        45    109       175       282\n",
      "4        45    117       148       406\n",
      "5        60    102       127       300\n"
     ]
    }
   ],
   "source": [
    "import pandas as pd\n",
    "'''python dictionaries = json hence both can be printed into a DataFrame very easily'''\n",
    "\n",
    "data = {\n",
    "  \"Duration\":{\n",
    "    \"0\":60,\n",
    "    \"1\":60,\n",
    "    \"2\":60,\n",
    "    \"3\":45,\n",
    "    \"4\":45,\n",
    "    \"5\":60\n",
    "  },\n",
    "  \"Pulse\":{\n",
    "    \"0\":110,\n",
    "    \"1\":117,\n",
    "    \"2\":103,\n",
    "    \"3\":109,\n",
    "    \"4\":117,\n",
    "    \"5\":102\n",
    "  },\n",
    "  \"Maxpulse\":{\n",
    "    \"0\":130,\n",
    "    \"1\":145,\n",
    "    \"2\":135,\n",
    "    \"3\":175,\n",
    "    \"4\":148,\n",
    "    \"5\":127\n",
    "  },\n",
    "  \"Calories\":{\n",
    "    \"0\":409,\n",
    "    \"1\":479,\n",
    "    \"2\":340,\n",
    "    \"3\":282,\n",
    "    \"4\":406,\n",
    "    \"5\":300\n",
    "  }\n",
    "}\n",
    "\n",
    "df = pd.DataFrame(data)\n",
    "\n",
    "print(df) "
   ]
  },
  {
   "cell_type": "markdown",
   "metadata": {},
   "source": [
    "ANALYSING THE DATA"
   ]
  },
  {
   "cell_type": "code",
   "execution_count": 24,
   "metadata": {},
   "outputs": [
    {
     "name": "stdout",
     "output_type": "stream",
     "text": [
      "                     movie  category  year  worldwide gross ($m)  \\\n",
      "0                Ant-Man     Ant-Man  2015                   518   \n",
      "1       Ant-Man & The Wasp   Ant-Man  2018                   623   \n",
      "2  Avengers: Age of Ultron  Avengers  2015                  1395   \n",
      "3       Avengers: End Game  Avengers  2019                  2797   \n",
      "4   Avengers: Infinity War  Avengers  2018                  2048   \n",
      "\n",
      "  % budget recovered critics % score audience % score  \\\n",
      "0               398%             83%              85%   \n",
      "1               479%             87%              80%   \n",
      "2               382%             76%              82%   \n",
      "3               699%             94%              90%   \n",
      "4               683%             85%              91%   \n",
      "\n",
      "  audience vs critics % deviance  budget  domestic gross ($m)  \\\n",
      "0                            -2%   130.0                  180   \n",
      "1                             7%   130.0                  216   \n",
      "2                            -6%   365.0                  459   \n",
      "3                             4%   400.0                  858   \n",
      "4                            -6%   300.0                  678   \n",
      "\n",
      "   international gross ($m)  opening weekend ($m)  second weekend ($m)  \\\n",
      "0                       338                  57.0                 24.0   \n",
      "1                       406                  75.8                 29.0   \n",
      "2                       936                 191.0                 77.0   \n",
      "3                      1939                 357.0                147.0   \n",
      "4                      1369                 257.0                114.0   \n",
      "\n",
      "  1st vs 2nd weekend drop off  % gross from opening weekend  \\\n",
      "0                        -58%                          31.8   \n",
      "1                        -62%                          35.0   \n",
      "2                        -60%                          41.7   \n",
      "3                        -59%                          41.6   \n",
      "4                        -56%                          38.0   \n",
      "\n",
      "  % gross from domestic % gross from international % budget opening weekend  \n",
      "0                34.70%                     65.30%                   43.80%  \n",
      "1                34.70%                     65.20%                   58.30%  \n",
      "2                32.90%                     67.10%                   52.30%  \n",
      "3                30.70%                     69.30%                   89.30%  \n",
      "4                33.10%                     66.80%                   85.70%  \n"
     ]
    }
   ],
   "source": [
    "# first step is viewing the data using head() method\n",
    "'''head method by default returns first 5 rows as output'''\n",
    "import pandas as pd\n",
    "df=pd.read_csv(\"Marvel Movies.csv\")\n",
    "print(df.head())"
   ]
  },
  {
   "cell_type": "code",
   "execution_count": 25,
   "metadata": {},
   "outputs": [
    {
     "name": "stdout",
     "output_type": "stream",
     "text": [
      "                                  movie    category  year  \\\n",
      "31       Guardians of the Galaxy Vol. 3   Guardians  2023   \n",
      "32                          The Marvels      Unique  2023   \n",
      "33  Spider-Man: Across the Spider-Verse  Spider-Man  2023   \n",
      "34                             Deadpool    Deadpool  2016   \n",
      "35                           Deadpool 2    Deadpool  2018   \n",
      "\n",
      "    worldwide gross ($m) % budget recovered critics % score audience % score  \\\n",
      "31                   845               338%             82%              95%   \n",
      "32                   503               201%             57%              73%   \n",
      "33                   680               681%             96%              94%   \n",
      "34                   783              1350%             85%              90%   \n",
      "35                   786               714%             84%              85%   \n",
      "\n",
      "   audience vs critics % deviance  budget  domestic gross ($m)  \\\n",
      "31                           -13%   250.0                  358   \n",
      "32                           -16%   250.0                  215   \n",
      "33                             2%   100.0                  380   \n",
      "34                             5%    58.0                  363   \n",
      "35                             1%   110.0                  324   \n",
      "\n",
      "    international gross ($m)  opening weekend ($m)  second weekend ($m)  \\\n",
      "31                       487                 118.0                 49.0   \n",
      "32                       288                  81.0                 27.0   \n",
      "33                       300                 120.0                 52.0   \n",
      "34                       420                 132.4                 56.5   \n",
      "35                       462                 125.5                 43.5   \n",
      "\n",
      "   1st vs 2nd weekend drop off  % gross from opening weekend  \\\n",
      "31                        -59%                       14.0000   \n",
      "32                        -67%                       16.1000   \n",
      "33                        -57%                       17.6000   \n",
      "34                        -57%                        0.1691   \n",
      "35                        -65%                        0.1597   \n",
      "\n",
      "   % gross from domestic % gross from international % budget opening weekend  \n",
      "31                42.40%                     57.60%                   47.20%  \n",
      "32                42.70%                     57.30%                   32.40%  \n",
      "33                55.90%                     44.10%                  120.00%  \n",
      "34                46.36%                     53.64%                  228.28%  \n",
      "35                41.22%                     58.78%                  114.09%  \n"
     ]
    }
   ],
   "source": [
    "# tail() method\n",
    "print(df.tail()) #will print last 5 data off the DataFrameb"
   ]
  },
  {
   "cell_type": "code",
   "execution_count": 26,
   "metadata": {},
   "outputs": [
    {
     "name": "stdout",
     "output_type": "stream",
     "text": [
      "<class 'pandas.core.frame.DataFrame'>\n",
      "RangeIndex: 36 entries, 0 to 35\n",
      "Data columns (total 18 columns):\n",
      " #   Column                          Non-Null Count  Dtype  \n",
      "---  ------                          --------------  -----  \n",
      " 0   movie                           36 non-null     object \n",
      " 1   category                        36 non-null     object \n",
      " 2   year                            36 non-null     int64  \n",
      " 3   worldwide gross ($m)            36 non-null     int64  \n",
      " 4   % budget recovered              36 non-null     object \n",
      " 5   critics % score                 36 non-null     object \n",
      " 6   audience % score                36 non-null     object \n",
      " 7   audience vs critics % deviance  36 non-null     object \n",
      " 8   budget                          36 non-null     float64\n",
      " 9   domestic gross ($m)             36 non-null     int64  \n",
      " 10  international gross ($m)        36 non-null     int64  \n",
      " 11  opening weekend ($m)            36 non-null     float64\n",
      " 12  second weekend ($m)             36 non-null     float64\n",
      " 13  1st vs 2nd weekend drop off     36 non-null     object \n",
      " 14  % gross from opening weekend    36 non-null     float64\n",
      " 15  % gross from domestic           36 non-null     object \n",
      " 16  % gross from international      36 non-null     object \n",
      " 17  % budget opening weekend        36 non-null     object \n",
      "dtypes: float64(4), int64(4), object(10)\n",
      "memory usage: 5.2+ KB\n",
      "None\n"
     ]
    }
   ],
   "source": [
    "#will return information about the DataFrame\n",
    "print(df.info())\n",
    "# The info() method also tells us how many Non-Null values there are present in each column, and in our data set it seems like there are 36 Non-Null values in the \"year\" column."
   ]
  },
  {
   "cell_type": "markdown",
   "metadata": {},
   "source": [
    "CLEANING DATA"
   ]
  },
  {
   "cell_type": "code",
   "execution_count": 27,
   "metadata": {},
   "outputs": [],
   "source": [
    "'''cleaning data cells means to remove or get rid of bad cells\n",
    "bas cells can include empty cells, data in wrong format, wrong data, Duplicates'''\n",
    "a=\"cleaning data sets begins here\""
   ]
  },
  {
   "cell_type": "code",
   "execution_count": 28,
   "metadata": {},
   "outputs": [
    {
     "ename": "FileNotFoundError",
     "evalue": "[Errno 2] No such file or directory: 'loan_dafta_1.csv'",
     "output_type": "error",
     "traceback": [
      "\u001b[1;31m---------------------------------------------------------------------------\u001b[0m",
      "\u001b[1;31mFileNotFoundError\u001b[0m                         Traceback (most recent call last)",
      "Cell \u001b[1;32mIn[28], line 3\u001b[0m\n\u001b[0;32m      1\u001b[0m \u001b[38;5;28;01mimport\u001b[39;00m \u001b[38;5;21;01mpandas\u001b[39;00m \u001b[38;5;28;01mas\u001b[39;00m \u001b[38;5;21;01mpd\u001b[39;00m \n\u001b[0;32m      2\u001b[0m \u001b[38;5;124;03m'''the lonan_data_1.csv file has multiple empty cells in the csv and in order to remove the rows with such data we use .dropna() method '''\u001b[39;00m\n\u001b[1;32m----> 3\u001b[0m df\u001b[38;5;241m=\u001b[39m\u001b[43mpd\u001b[49m\u001b[38;5;241;43m.\u001b[39;49m\u001b[43mread_csv\u001b[49m\u001b[43m(\u001b[49m\u001b[38;5;124;43m\"\u001b[39;49m\u001b[38;5;124;43mloan_dafta_1.csv\u001b[39;49m\u001b[38;5;124;43m\"\u001b[39;49m\u001b[43m)\u001b[49m\u001b[38;5;241m.\u001b[39mdropna()\n\u001b[0;32m      4\u001b[0m \u001b[38;5;28mprint\u001b[39m(df\u001b[38;5;241m.\u001b[39mto_string()) \u001b[38;5;66;03m#somehow this command also removed null-celled and saved the file\u001b[39;00m\n",
      "File \u001b[1;32m~\\AppData\\Roaming\\Python\\Python312\\site-packages\\pandas\\io\\parsers\\readers.py:1026\u001b[0m, in \u001b[0;36mread_csv\u001b[1;34m(filepath_or_buffer, sep, delimiter, header, names, index_col, usecols, dtype, engine, converters, true_values, false_values, skipinitialspace, skiprows, skipfooter, nrows, na_values, keep_default_na, na_filter, verbose, skip_blank_lines, parse_dates, infer_datetime_format, keep_date_col, date_parser, date_format, dayfirst, cache_dates, iterator, chunksize, compression, thousands, decimal, lineterminator, quotechar, quoting, doublequote, escapechar, comment, encoding, encoding_errors, dialect, on_bad_lines, delim_whitespace, low_memory, memory_map, float_precision, storage_options, dtype_backend)\u001b[0m\n\u001b[0;32m   1013\u001b[0m kwds_defaults \u001b[38;5;241m=\u001b[39m _refine_defaults_read(\n\u001b[0;32m   1014\u001b[0m     dialect,\n\u001b[0;32m   1015\u001b[0m     delimiter,\n\u001b[1;32m   (...)\u001b[0m\n\u001b[0;32m   1022\u001b[0m     dtype_backend\u001b[38;5;241m=\u001b[39mdtype_backend,\n\u001b[0;32m   1023\u001b[0m )\n\u001b[0;32m   1024\u001b[0m kwds\u001b[38;5;241m.\u001b[39mupdate(kwds_defaults)\n\u001b[1;32m-> 1026\u001b[0m \u001b[38;5;28;01mreturn\u001b[39;00m \u001b[43m_read\u001b[49m\u001b[43m(\u001b[49m\u001b[43mfilepath_or_buffer\u001b[49m\u001b[43m,\u001b[49m\u001b[43m \u001b[49m\u001b[43mkwds\u001b[49m\u001b[43m)\u001b[49m\n",
      "File \u001b[1;32m~\\AppData\\Roaming\\Python\\Python312\\site-packages\\pandas\\io\\parsers\\readers.py:620\u001b[0m, in \u001b[0;36m_read\u001b[1;34m(filepath_or_buffer, kwds)\u001b[0m\n\u001b[0;32m    617\u001b[0m _validate_names(kwds\u001b[38;5;241m.\u001b[39mget(\u001b[38;5;124m\"\u001b[39m\u001b[38;5;124mnames\u001b[39m\u001b[38;5;124m\"\u001b[39m, \u001b[38;5;28;01mNone\u001b[39;00m))\n\u001b[0;32m    619\u001b[0m \u001b[38;5;66;03m# Create the parser.\u001b[39;00m\n\u001b[1;32m--> 620\u001b[0m parser \u001b[38;5;241m=\u001b[39m \u001b[43mTextFileReader\u001b[49m\u001b[43m(\u001b[49m\u001b[43mfilepath_or_buffer\u001b[49m\u001b[43m,\u001b[49m\u001b[43m \u001b[49m\u001b[38;5;241;43m*\u001b[39;49m\u001b[38;5;241;43m*\u001b[39;49m\u001b[43mkwds\u001b[49m\u001b[43m)\u001b[49m\n\u001b[0;32m    622\u001b[0m \u001b[38;5;28;01mif\u001b[39;00m chunksize \u001b[38;5;129;01mor\u001b[39;00m iterator:\n\u001b[0;32m    623\u001b[0m     \u001b[38;5;28;01mreturn\u001b[39;00m parser\n",
      "File \u001b[1;32m~\\AppData\\Roaming\\Python\\Python312\\site-packages\\pandas\\io\\parsers\\readers.py:1620\u001b[0m, in \u001b[0;36mTextFileReader.__init__\u001b[1;34m(self, f, engine, **kwds)\u001b[0m\n\u001b[0;32m   1617\u001b[0m     \u001b[38;5;28mself\u001b[39m\u001b[38;5;241m.\u001b[39moptions[\u001b[38;5;124m\"\u001b[39m\u001b[38;5;124mhas_index_names\u001b[39m\u001b[38;5;124m\"\u001b[39m] \u001b[38;5;241m=\u001b[39m kwds[\u001b[38;5;124m\"\u001b[39m\u001b[38;5;124mhas_index_names\u001b[39m\u001b[38;5;124m\"\u001b[39m]\n\u001b[0;32m   1619\u001b[0m \u001b[38;5;28mself\u001b[39m\u001b[38;5;241m.\u001b[39mhandles: IOHandles \u001b[38;5;241m|\u001b[39m \u001b[38;5;28;01mNone\u001b[39;00m \u001b[38;5;241m=\u001b[39m \u001b[38;5;28;01mNone\u001b[39;00m\n\u001b[1;32m-> 1620\u001b[0m \u001b[38;5;28mself\u001b[39m\u001b[38;5;241m.\u001b[39m_engine \u001b[38;5;241m=\u001b[39m \u001b[38;5;28;43mself\u001b[39;49m\u001b[38;5;241;43m.\u001b[39;49m\u001b[43m_make_engine\u001b[49m\u001b[43m(\u001b[49m\u001b[43mf\u001b[49m\u001b[43m,\u001b[49m\u001b[43m \u001b[49m\u001b[38;5;28;43mself\u001b[39;49m\u001b[38;5;241;43m.\u001b[39;49m\u001b[43mengine\u001b[49m\u001b[43m)\u001b[49m\n",
      "File \u001b[1;32m~\\AppData\\Roaming\\Python\\Python312\\site-packages\\pandas\\io\\parsers\\readers.py:1880\u001b[0m, in \u001b[0;36mTextFileReader._make_engine\u001b[1;34m(self, f, engine)\u001b[0m\n\u001b[0;32m   1878\u001b[0m     \u001b[38;5;28;01mif\u001b[39;00m \u001b[38;5;124m\"\u001b[39m\u001b[38;5;124mb\u001b[39m\u001b[38;5;124m\"\u001b[39m \u001b[38;5;129;01mnot\u001b[39;00m \u001b[38;5;129;01min\u001b[39;00m mode:\n\u001b[0;32m   1879\u001b[0m         mode \u001b[38;5;241m+\u001b[39m\u001b[38;5;241m=\u001b[39m \u001b[38;5;124m\"\u001b[39m\u001b[38;5;124mb\u001b[39m\u001b[38;5;124m\"\u001b[39m\n\u001b[1;32m-> 1880\u001b[0m \u001b[38;5;28mself\u001b[39m\u001b[38;5;241m.\u001b[39mhandles \u001b[38;5;241m=\u001b[39m \u001b[43mget_handle\u001b[49m\u001b[43m(\u001b[49m\n\u001b[0;32m   1881\u001b[0m \u001b[43m    \u001b[49m\u001b[43mf\u001b[49m\u001b[43m,\u001b[49m\n\u001b[0;32m   1882\u001b[0m \u001b[43m    \u001b[49m\u001b[43mmode\u001b[49m\u001b[43m,\u001b[49m\n\u001b[0;32m   1883\u001b[0m \u001b[43m    \u001b[49m\u001b[43mencoding\u001b[49m\u001b[38;5;241;43m=\u001b[39;49m\u001b[38;5;28;43mself\u001b[39;49m\u001b[38;5;241;43m.\u001b[39;49m\u001b[43moptions\u001b[49m\u001b[38;5;241;43m.\u001b[39;49m\u001b[43mget\u001b[49m\u001b[43m(\u001b[49m\u001b[38;5;124;43m\"\u001b[39;49m\u001b[38;5;124;43mencoding\u001b[39;49m\u001b[38;5;124;43m\"\u001b[39;49m\u001b[43m,\u001b[49m\u001b[43m \u001b[49m\u001b[38;5;28;43;01mNone\u001b[39;49;00m\u001b[43m)\u001b[49m\u001b[43m,\u001b[49m\n\u001b[0;32m   1884\u001b[0m \u001b[43m    \u001b[49m\u001b[43mcompression\u001b[49m\u001b[38;5;241;43m=\u001b[39;49m\u001b[38;5;28;43mself\u001b[39;49m\u001b[38;5;241;43m.\u001b[39;49m\u001b[43moptions\u001b[49m\u001b[38;5;241;43m.\u001b[39;49m\u001b[43mget\u001b[49m\u001b[43m(\u001b[49m\u001b[38;5;124;43m\"\u001b[39;49m\u001b[38;5;124;43mcompression\u001b[39;49m\u001b[38;5;124;43m\"\u001b[39;49m\u001b[43m,\u001b[49m\u001b[43m \u001b[49m\u001b[38;5;28;43;01mNone\u001b[39;49;00m\u001b[43m)\u001b[49m\u001b[43m,\u001b[49m\n\u001b[0;32m   1885\u001b[0m \u001b[43m    \u001b[49m\u001b[43mmemory_map\u001b[49m\u001b[38;5;241;43m=\u001b[39;49m\u001b[38;5;28;43mself\u001b[39;49m\u001b[38;5;241;43m.\u001b[39;49m\u001b[43moptions\u001b[49m\u001b[38;5;241;43m.\u001b[39;49m\u001b[43mget\u001b[49m\u001b[43m(\u001b[49m\u001b[38;5;124;43m\"\u001b[39;49m\u001b[38;5;124;43mmemory_map\u001b[39;49m\u001b[38;5;124;43m\"\u001b[39;49m\u001b[43m,\u001b[49m\u001b[43m \u001b[49m\u001b[38;5;28;43;01mFalse\u001b[39;49;00m\u001b[43m)\u001b[49m\u001b[43m,\u001b[49m\n\u001b[0;32m   1886\u001b[0m \u001b[43m    \u001b[49m\u001b[43mis_text\u001b[49m\u001b[38;5;241;43m=\u001b[39;49m\u001b[43mis_text\u001b[49m\u001b[43m,\u001b[49m\n\u001b[0;32m   1887\u001b[0m \u001b[43m    \u001b[49m\u001b[43merrors\u001b[49m\u001b[38;5;241;43m=\u001b[39;49m\u001b[38;5;28;43mself\u001b[39;49m\u001b[38;5;241;43m.\u001b[39;49m\u001b[43moptions\u001b[49m\u001b[38;5;241;43m.\u001b[39;49m\u001b[43mget\u001b[49m\u001b[43m(\u001b[49m\u001b[38;5;124;43m\"\u001b[39;49m\u001b[38;5;124;43mencoding_errors\u001b[39;49m\u001b[38;5;124;43m\"\u001b[39;49m\u001b[43m,\u001b[49m\u001b[43m \u001b[49m\u001b[38;5;124;43m\"\u001b[39;49m\u001b[38;5;124;43mstrict\u001b[39;49m\u001b[38;5;124;43m\"\u001b[39;49m\u001b[43m)\u001b[49m\u001b[43m,\u001b[49m\n\u001b[0;32m   1888\u001b[0m \u001b[43m    \u001b[49m\u001b[43mstorage_options\u001b[49m\u001b[38;5;241;43m=\u001b[39;49m\u001b[38;5;28;43mself\u001b[39;49m\u001b[38;5;241;43m.\u001b[39;49m\u001b[43moptions\u001b[49m\u001b[38;5;241;43m.\u001b[39;49m\u001b[43mget\u001b[49m\u001b[43m(\u001b[49m\u001b[38;5;124;43m\"\u001b[39;49m\u001b[38;5;124;43mstorage_options\u001b[39;49m\u001b[38;5;124;43m\"\u001b[39;49m\u001b[43m,\u001b[49m\u001b[43m \u001b[49m\u001b[38;5;28;43;01mNone\u001b[39;49;00m\u001b[43m)\u001b[49m\u001b[43m,\u001b[49m\n\u001b[0;32m   1889\u001b[0m \u001b[43m\u001b[49m\u001b[43m)\u001b[49m\n\u001b[0;32m   1890\u001b[0m \u001b[38;5;28;01massert\u001b[39;00m \u001b[38;5;28mself\u001b[39m\u001b[38;5;241m.\u001b[39mhandles \u001b[38;5;129;01mis\u001b[39;00m \u001b[38;5;129;01mnot\u001b[39;00m \u001b[38;5;28;01mNone\u001b[39;00m\n\u001b[0;32m   1891\u001b[0m f \u001b[38;5;241m=\u001b[39m \u001b[38;5;28mself\u001b[39m\u001b[38;5;241m.\u001b[39mhandles\u001b[38;5;241m.\u001b[39mhandle\n",
      "File \u001b[1;32m~\\AppData\\Roaming\\Python\\Python312\\site-packages\\pandas\\io\\common.py:873\u001b[0m, in \u001b[0;36mget_handle\u001b[1;34m(path_or_buf, mode, encoding, compression, memory_map, is_text, errors, storage_options)\u001b[0m\n\u001b[0;32m    868\u001b[0m \u001b[38;5;28;01melif\u001b[39;00m \u001b[38;5;28misinstance\u001b[39m(handle, \u001b[38;5;28mstr\u001b[39m):\n\u001b[0;32m    869\u001b[0m     \u001b[38;5;66;03m# Check whether the filename is to be opened in binary mode.\u001b[39;00m\n\u001b[0;32m    870\u001b[0m     \u001b[38;5;66;03m# Binary mode does not support 'encoding' and 'newline'.\u001b[39;00m\n\u001b[0;32m    871\u001b[0m     \u001b[38;5;28;01mif\u001b[39;00m ioargs\u001b[38;5;241m.\u001b[39mencoding \u001b[38;5;129;01mand\u001b[39;00m \u001b[38;5;124m\"\u001b[39m\u001b[38;5;124mb\u001b[39m\u001b[38;5;124m\"\u001b[39m \u001b[38;5;129;01mnot\u001b[39;00m \u001b[38;5;129;01min\u001b[39;00m ioargs\u001b[38;5;241m.\u001b[39mmode:\n\u001b[0;32m    872\u001b[0m         \u001b[38;5;66;03m# Encoding\u001b[39;00m\n\u001b[1;32m--> 873\u001b[0m         handle \u001b[38;5;241m=\u001b[39m \u001b[38;5;28;43mopen\u001b[39;49m\u001b[43m(\u001b[49m\n\u001b[0;32m    874\u001b[0m \u001b[43m            \u001b[49m\u001b[43mhandle\u001b[49m\u001b[43m,\u001b[49m\n\u001b[0;32m    875\u001b[0m \u001b[43m            \u001b[49m\u001b[43mioargs\u001b[49m\u001b[38;5;241;43m.\u001b[39;49m\u001b[43mmode\u001b[49m\u001b[43m,\u001b[49m\n\u001b[0;32m    876\u001b[0m \u001b[43m            \u001b[49m\u001b[43mencoding\u001b[49m\u001b[38;5;241;43m=\u001b[39;49m\u001b[43mioargs\u001b[49m\u001b[38;5;241;43m.\u001b[39;49m\u001b[43mencoding\u001b[49m\u001b[43m,\u001b[49m\n\u001b[0;32m    877\u001b[0m \u001b[43m            \u001b[49m\u001b[43merrors\u001b[49m\u001b[38;5;241;43m=\u001b[39;49m\u001b[43merrors\u001b[49m\u001b[43m,\u001b[49m\n\u001b[0;32m    878\u001b[0m \u001b[43m            \u001b[49m\u001b[43mnewline\u001b[49m\u001b[38;5;241;43m=\u001b[39;49m\u001b[38;5;124;43m\"\u001b[39;49m\u001b[38;5;124;43m\"\u001b[39;49m\u001b[43m,\u001b[49m\n\u001b[0;32m    879\u001b[0m \u001b[43m        \u001b[49m\u001b[43m)\u001b[49m\n\u001b[0;32m    880\u001b[0m     \u001b[38;5;28;01melse\u001b[39;00m:\n\u001b[0;32m    881\u001b[0m         \u001b[38;5;66;03m# Binary mode\u001b[39;00m\n\u001b[0;32m    882\u001b[0m         handle \u001b[38;5;241m=\u001b[39m \u001b[38;5;28mopen\u001b[39m(handle, ioargs\u001b[38;5;241m.\u001b[39mmode)\n",
      "\u001b[1;31mFileNotFoundError\u001b[0m: [Errno 2] No such file or directory: 'loan_dafta_1.csv'"
     ]
    }
   ],
   "source": [
    "import pandas as pd \n",
    "'''the lonan_data_1.csv file has multiple empty cells in the csv and in order to remove the rows with such data we use .dropna() method '''\n",
    "df=pd.read_csv(\"loan_dafta_1.csv\").dropna()\n",
    "print(df.to_string()) #somehow this command also removed null-celled and saved the file"
   ]
  },
  {
   "cell_type": "code",
   "execution_count": null,
   "metadata": {},
   "outputs": [],
   "source": [
    "# the above syntax doesn't save the file as edited\n",
    "'''in order to permanently save the file as edited(i.e. null celled rows rmoved, one can (inplace=True))'''\n",
    "so=pd.read_csv(\"loan_data_1.csv\")\n",
    "print(so.dropna(inplace=True))"
   ]
  },
  {
   "cell_type": "code",
   "execution_count": null,
   "metadata": {},
   "outputs": [],
   "source": [
    "name=pd.read_csv(\"loan_data_1 - Copy.csv\")\n",
    "print(name.to_string()) #this is a file that hasn't been cleaned and is the exact replica of the loans_data1.csv file before getting cleaned"
   ]
  },
  {
   "cell_type": "code",
   "execution_count": null,
   "metadata": {},
   "outputs": [],
   "source": [
    "# '''didn't find a csv file to experiment on this so leacing the syntax here'''\n",
    "import pandas as pd\n",
    "'''\n",
    "--> Replace NULL values with the number 130:\n",
    "\n",
    "df = pd.read_csv('data.csv')\n",
    "\n",
    "df.fillna(130, inplace = True)'''"
   ]
  },
  {
   "cell_type": "code",
   "execution_count": null,
   "metadata": {},
   "outputs": [],
   "source": [
    "'''Replace NULL values in the \"Calories\" columns with the number 130:\n",
    "\n",
    "import pandas as pd\n",
    "\n",
    "df = pd.read_csv('data.csv')\n",
    "\n",
    "df[\"Calories\"].fillna(130, inplace = True)'''"
   ]
  },
  {
   "cell_type": "code",
   "execution_count": null,
   "metadata": {},
   "outputs": [],
   "source": [
    "# replacing values of a column using mean, median, mode\n",
    "'''incase the demand is to fill the empty cells with mean or medain or  mode of rest of the data'''\n",
    "###\n",
    "'''for replacing with mean\n",
    "\n",
    "df = pd.read_csv('data.csv')\n",
    "\n",
    "x = df[\"Calories\"].mean()\n",
    "\n",
    "df[\"Calories\"].fillna(x, inplace = True)'''\n",
    "\n",
    "#\n",
    "\n",
    "'''for replacing with median\n",
    "\n",
    "df = pd.read_csv('data.csv')\n",
    "x = df[\"Calories\"].median()\n",
    "df[\"Calories\"].fillna(x, inplace = True)\n",
    "'''\n",
    "#\n",
    "\n",
    "'''for replacing wit mode\n",
    "\n",
    "df = pd.read_csv('data.csv')\n",
    "x = df[\"Calories\"].mode()[0]\n",
    "df[\"Calories\"].fillna(x, inplace = True)\n",
    "'''"
   ]
  },
  {
   "cell_type": "markdown",
   "metadata": {},
   "source": [
    "CLEANING OF WRONG FORMAT"
   ]
  },
  {
   "cell_type": "code",
   "execution_count": null,
   "metadata": {},
   "outputs": [],
   "source": [
    "import pandas as pd\n",
    "print(pd.read_csv(\"Marvel Movies.csv\").dropna(inplace=True))"
   ]
  },
  {
   "cell_type": "code",
   "execution_count": null,
   "metadata": {},
   "outputs": [],
   "source": [
    "import pandas as pd\n",
    "'''\n",
    "In our Data Frame, we have two cells with the wrong format. Check out row 22 and 26, the 'Date' column should be a string that represents a date:\n",
    "\n",
    "Let's try to convert all cells in the 'Date' column into dates.\n",
    "# the dataset in the tutorial has a file with a wrongly written date cell and a cell with no date at all\n",
    "**in order to rectify the date using pandas following syntax has been used**\n",
    "\n",
    "import pandas as pd\n",
    "\n",
    "df = pd.read_csv('data.csv')\n",
    "\n",
    "df['Date'] = pd.to_datetime(df['Date'])\n",
    "\n",
    "print(df.to_string()) '''\n",
    "\n",
    "\n",
    "a='iambatman'\n",
    "# and now to remove the row with no date mentioned,\n",
    "# follow this syntax\n",
    "# df.dropna(subset=['Date'], inplace=True)"
   ]
  },
  {
   "cell_type": "code",
   "execution_count": null,
   "metadata": {},
   "outputs": [],
   "source": [
    "# make copy of a file \n",
    "\n",
    "import pandas as pd\n",
    "a={\n",
    "    \"name\":[\"Batman\", \"Superman\", \"Spiderman\", \"Kratos\", \"IronMan\", \"Hawkeye\", \"Falcon\"],\n",
    "    \"kills\":[10, 200, 1, 20000, 2000000, 210, 12 ],\n",
    "}\n",
    "df=pd.DataFrame(a).copy(deep=True)\n",
    "\n",
    "'''\tOptional. Default True. Specifies whether to make a deep or a shallow copy.\n",
    "By default (deep=True, any changes made in the original DataFrame will NOT be reflected in the copy.\n",
    "\n",
    "With the parameter deep=False, it is only the reference to the data (and index) that will be copied, and any changes made in the original will be reflected in the copy, and, any changes made in the copy will be reflected in the original.'''\n",
    "# now we work on this dataframe without affecting the original one"
   ]
  },
  {
   "cell_type": "code",
   "execution_count": null,
   "metadata": {},
   "outputs": [],
   "source": [
    "# back to cleaning data\n",
    "import pandas as pd\n",
    "df=pd.read_csv(\"Marvel Movies.csv\").copy() #default value for deep under copy method is true so changes to this file won't be affecting the original file\n",
    "print(df.to_string())\n",
    "# now to change a data's value in this dataframe we'll use the following code\n",
    "df.loc[14, 'movie']='Eternals (bekar movie)'\n",
    "print('''\n",
    "\n",
    "''')\n",
    "print(df.to_string())\n",
    "\n",
    "# here we can clearly see how the loc method applied to the csv file changed the desired cell's value"
   ]
  },
  {
   "cell_type": "code",
   "execution_count": null,
   "metadata": {},
   "outputs": [],
   "source": [
    "'''looping through the whole column to apply a criteria to the whole dataset'''\n",
    "import pandas as pd \n",
    "\n",
    "df=pd.read_csv(\"Marvel Movies.csv\").copy(deep=True) #default value for deep under copy method is true so changes to this file won't be affecting the original file\n",
    "for i in df.index:\n",
    "    if df.loc[i, 'worldwide gross ($m)']>1000:\n",
    "        df.loc[i, 'worldwide gross ($m)']=1000\n",
    "# now here every movie greater than the earning of $1000M has been its worldwide gross rounded off down to 1000"
   ]
  },
  {
   "cell_type": "code",
   "execution_count": null,
   "metadata": {},
   "outputs": [],
   "source": [
    "import pandas as pd\n",
    "\n",
    "# used blackbox ai here to understand some concepts\n",
    "\n",
    "a={\n",
    "    \"name\":[\"Batman\", \"Superman\", \"Spiderman\", \"Kratos\", \"IronMan\", \"Hawkeye\", \"Falcon\"],\n",
    "    \"kills\":[10, 200, 1, 20000, 2000000, 210, 12 ],\n",
    "}\n",
    "\n",
    "df = pd.DataFrame(a)\n",
    "\n",
    "for index, row in df.iterrows():\n",
    "    if row['name'] == 'Superman':\n",
    "        df.loc[index, 'name'] = 'Hulk'\n",
    "\n",
    "print(df)"
   ]
  },
  {
   "cell_type": "code",
   "execution_count": null,
   "metadata": {},
   "outputs": [],
   "source": [
    "# removing rows from a dataset\n",
    "df=pd.read_csv(\"Marvel Movies.csv\").copy(deep=True) #default value for deep under copy method is true so changes to this file won't be affecting the original file\n",
    "'''looping through the whole column to apply a criteria to the whole dataset'''\n",
    "import pandas as pd \n",
    "\n",
    "df=pd.read_csv(\"Marvel Movies.csv\").copy(deep=True) #default value for deep under copy method is true so changes to this file won't be affecting the original file\n",
    "for i in df.index:\n",
    "    if df.loc[i, 'worldwide gross ($m)']>1000:\n",
    "        df.drop(i, inplace=True) #'''this removes all the rows that have globally made more than 100m$ in their release year'''\n",
    "print(df.to_string)"
   ]
  },
  {
   "cell_type": "markdown",
   "metadata": {},
   "source": [
    "DISCOVERING & REMOVING DUPLICATES "
   ]
  },
  {
   "cell_type": "code",
   "execution_count": null,
   "metadata": {},
   "outputs": [],
   "source": [
    "'''looping through the whole column to apply a criteria to the whole dataset'''\n",
    "import pandas as pd \n",
    "\n",
    "df=pd.read_csv(\"loan_data_1 - Copy.csv\")\n",
    "\n",
    "print(df.duplicated())#this tells if there are any duplicate values in the dataset\n",
    "\n",
    "'''to remove duplicates'''\n",
    "df.drop_duplicates(inplace=True) #inplace ensures the changed data is saved"
   ]
  },
  {
   "cell_type": "code",
   "execution_count": null,
   "metadata": {},
   "outputs": [],
   "source": [
    "# finding relationships in the dataset\n",
    "import pandas as pd\n",
    "\n",
    "df=pd.read_csv(\"data.csv\").copy(deep=True)\n",
    "df.corr()\n",
    "'''\n",
    "Result Explained\n",
    "The Result of the corr() method is a table with a lot of numbers that represents how well the relationship is between two columns.\n",
    "\n",
    "The number varies from -1 to 1.\n",
    "\n",
    "1 means that there is a 1 to 1 relationship (a perfect correlation), and for this data set, each time a value went up in the first column, the other one went up as well.\n",
    "\n",
    "0.9 is also a good relationship, and if you increase one value, the other will probably increase as well.\n",
    "\n",
    "-0.9 would be just as good relationship as 0.9, but if you increase one value, the other will probably go down.\n",
    "\n",
    "0.2 means NOT a good relationship, meaning that if one value goes up does not mean that the other will.\n",
    "\n",
    "What is a good correlation? It depends on the use, but I think it is safe to say you have to have at least 0.6 (or -0.6) to call it a good correlation.\n",
    "\n",
    "Perfect Correlation:\n",
    "We can see that \"Duration\" and \"Duration\" got the number 1.000000, which makes sense, each column always has a perfect relationship with itself.\n",
    "\n",
    "Good Correlation:\n",
    "\"Duration\" and \"Calories\" got a 0.922721 correlation, which is a very good correlation, and we can predict that the longer you work out, the more calories you burn, and the other way around: if you burned a lot of calories, you probably had a long work out.\n",
    "\n",
    "Bad Correlation:\n",
    "\"Duration\" and \"Maxpulse\" got a 0.009403 correlation, which is a very bad correlation, meaning that we can not predict the max pulse by just looking at the duration of the work out, and vice versa.\n",
    "'''"
   ]
  },
  {
   "cell_type": "markdown",
   "metadata": {},
   "source": [
    "PANDAS PLOTTING"
   ]
  },
  {
   "cell_type": "code",
   "execution_count": null,
   "metadata": {},
   "outputs": [],
   "source": [
    "import pandas as pd\n",
    "import matplotlib.pyplot as plt\n",
    "df=pd.read_csv(\"data.csv\").copy(deep=True)\n",
    "df.plot()\n",
    "plt.show()"
   ]
  },
  {
   "cell_type": "code",
   "execution_count": null,
   "metadata": {},
   "outputs": [],
   "source": [
    "# for scattered plot of the above graph\n",
    "import pandas as pd\n",
    "import matplotlib.pyplot as plt\n",
    "df=pd.read_csv(\"data.csv\").copy(deep=True)\n",
    "\n",
    "\n",
    "df.plot(kind = 'scatter', x = 'Duration', y = 'Calories')\n",
    "plt.show()"
   ]
  },
  {
   "cell_type": "code",
   "execution_count": null,
   "metadata": {},
   "outputs": [],
   "source": [
    "import pandas as pd\n",
    "import matplotlib.pyplot as plt\n",
    "\n",
    "df = pd.read_csv('data.csv').copy()\n",
    "\n",
    "df.plot(kind = 'scatter', x = 'Duration', y = 'Maxpulse')\n",
    "\n",
    "plt.show()"
   ]
  },
  {
   "cell_type": "markdown",
   "metadata": {},
   "source": [
    "Data Processing Tools\n",
    "\n",
    "important libraries--> numpy, matplotlib, pandas"
   ]
  }
 ],
 "metadata": {
  "kernelspec": {
   "display_name": "Python 3",
   "language": "python",
   "name": "python3"
  },
  "language_info": {
   "codemirror_mode": {
    "name": "ipython",
    "version": 3
   },
   "file_extension": ".py",
   "mimetype": "text/x-python",
   "name": "python",
   "nbconvert_exporter": "python",
   "pygments_lexer": "ipython3",
   "version": "3.12.4"
  }
 },
 "nbformat": 4,
 "nbformat_minor": 2
}
